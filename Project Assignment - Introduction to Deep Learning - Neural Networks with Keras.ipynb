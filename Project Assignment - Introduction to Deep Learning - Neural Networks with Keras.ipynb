{
 "cells": [
  {
   "cell_type": "markdown",
   "metadata": {},
   "source": [
    "<div align=center><font size = 6>Build a Regression Model in Keras</font></dev>"
   ]
  },
  {
   "cell_type": "markdown",
   "metadata": {},
   "source": [
    "<div><font size=3><strong>Table Of Contents</strong></font></div>\n",
    "\n",
    "1. Some useful functions\n",
    "2. Loading input corpus\n",
    "3. Reviewing the loaded data\n",
    "4. Normalizing input data\n",
    "5. Splitting corpus into traning set and testing set\n",
    "6. A - Experiment with a baseline model\n",
    "7. B - Experiment with Normalized Data\n",
    "8. C. Increate the number of epochs\n",
    "9. D. Increase the number of hidden layers\n",
    "10. Discussion"
   ]
  },
  {
   "cell_type": "markdown",
   "metadata": {},
   "source": [
    "<strong>The dataset is about the compressive strength of different samples of concrete based on the volumes of the different ingredients that were used to make them. Ingredients include:</strong>\n",
    "\n",
    "<strong>1. Cement</strong>\n",
    "\n",
    "<strong>2. Blast Furnace Slag</strong>\n",
    "\n",
    "<strong>3. Fly Ash</strong>\n",
    "\n",
    "<strong>4. Water</strong>\n",
    "\n",
    "<strong>5. Superplasticizer</strong>\n",
    "\n",
    "<strong>6. Coarse Aggregate</strong>\n",
    "\n",
    "<strong>7. Fine Aggregate</strong>"
   ]
  },
  {
   "cell_type": "markdown",
   "metadata": {},
   "source": [
    "# Some useful functions"
   ]
  },
  {
   "cell_type": "markdown",
   "metadata": {},
   "source": [
    "Let's start by importing the libraries, such as, os, pandas, numpy, scikit_learn, etc."
   ]
  },
  {
   "cell_type": "code",
   "execution_count": 46,
   "metadata": {
    "ExecuteTime": {
     "end_time": "2019-12-21T19:33:00.419880Z",
     "start_time": "2019-12-21T19:33:00.417259Z"
    }
   },
   "outputs": [],
   "source": [
    "import os\n",
    "import pandas as pd\n",
    "import numpy as np\n",
    "\n",
    "from keras.models import Sequential\n",
    "from keras.layers import Dense"
   ]
  },
  {
   "cell_type": "code",
   "execution_count": 2,
   "metadata": {
    "ExecuteTime": {
     "end_time": "2019-12-21T19:32:38.829878Z",
     "start_time": "2019-12-21T19:32:38.819147Z"
    }
   },
   "outputs": [],
   "source": [
    "def get_mse(y_tst, y_tst_hat):\n",
    "    \"\"\"Residual sum of squares (MSE)\n",
    "    \"\"\"\n",
    "    return np.mean(np.power(y_tst - y_tst_hat, 2))\n",
    "\n",
    "def get_rmse(y_tst, y_tst_hat):\n",
    "    \"\"\"Root of Residual sum of squares (RMSE) or Standard deviation of residuals \n",
    "    \"\"\"\n",
    "    return np.sqrt(np.mean(np.power(y_tst - y_tst_hat, 2)))\n",
    "\n",
    "def get_round(score, num_of_digits=2):\n",
    "    \"\"\"Get round with given number of decimal digits \n",
    "    \"\"\"\n",
    "    return round(score, num_of_digits)\n",
    "\n",
    "def get_report_mse_and_rmse(y_test, y_hat, name_of_experiment):\n",
    "    \"\"\"Get report (dataframe) of two metrics: \n",
    "    The mean and the standard deviation of the mean squared errors\n",
    "    \"\"\"\n",
    "    mse_baseline = get_mse(y_test, y_hat)\n",
    "    mse_baseline_score = get_round(mse_baseline[COL_NAME_STRENGTH])\n",
    "\n",
    "    rmse_baseline = get_rmse(y_test, y_hat)\n",
    "    rmse_baseline_score = get_round(rmse_baseline[COL_NAME_STRENGTH])\n",
    "\n",
    "    print(\"The mean and the standard deviation of the mean squared errors are: {} and {}, respectively\".format(\n",
    "          mse_baseline_score, rmse_baseline_score))\n",
    "\n",
    "    values = [[name_of_experiment, mse_baseline_score, rmse_baseline_score]]\n",
    "\n",
    "    df_result = pd.DataFrame(columns=header_of_df_mse_and_rmse, data=values)\n",
    "    return df_result"
   ]
  },
  {
   "cell_type": "markdown",
   "metadata": {},
   "source": [
    "# Loading input corpus"
   ]
  },
  {
   "cell_type": "markdown",
   "metadata": {},
   "source": [
    "Let's assign the path of input corpus and the relative column names"
   ]
  },
  {
   "cell_type": "code",
   "execution_count": 3,
   "metadata": {
    "ExecuteTime": {
     "end_time": "2019-12-21T19:32:38.856072Z",
     "start_time": "2019-12-21T19:32:38.832916Z"
    }
   },
   "outputs": [],
   "source": [
    "file_input_path = \"concrete_data.csv\"\n",
    "\n",
    "COL_NAME_CEMENT = \"Cement\"\n",
    "COL_NAME_BLAST_FURNACE_SLAG = \"Blast Furnace Slag\"\n",
    "COL_NAME_FLY_ASH = \"Fly Ash\"\n",
    "COL_NAME_WATER = \"Water\"\n",
    "COL_NAME_SUPERPLASTICIZER = \"Superplasticizer\"\n",
    "COL_NAME_COARSE_AGGREGATE = \"Coarse Aggregate\"\n",
    "COL_NAME_FINE_AGGREGATE = \"Fine Aggregate\"\n",
    "COL_NAME_AGE = \"Age\"\n",
    "COL_NAME_STRENGTH = \"Strength\"\n",
    "\n",
    "COL_NAME_EXPERIMENT = \"Experiment\"\n",
    "COL_NAME_MSE = \"MSE\"\n",
    "COL_NAME_RMSE = \"RMSE\"\n",
    "\n",
    "# This dataframe contains three columns: \n",
    "# name_of_experiments, mse, rmse\n",
    "header_of_df_mse_and_rmse = [COL_NAME_EXPERIMENT, COL_NAME_MSE, COL_NAME_RMSE]\n",
    "df_mse_and_rmse = pd.DataFrame(columns=header_of_df_mse_and_rmse, data=[])"
   ]
  },
  {
   "cell_type": "markdown",
   "metadata": {},
   "source": [
    "Let's verify the path of input-file"
   ]
  },
  {
   "cell_type": "code",
   "execution_count": 4,
   "metadata": {
    "ExecuteTime": {
     "end_time": "2019-12-21T19:32:38.875823Z",
     "start_time": "2019-12-21T19:32:38.858878Z"
    }
   },
   "outputs": [
    {
     "name": "stdout",
     "output_type": "stream",
     "text": [
      "We will load the data from file 'concrete_data.csv' to dataframe.\n"
     ]
    }
   ],
   "source": [
    "if os.path.exists(file_input_path):\n",
    "    print(\"We will load the data from file '{}' to dataframe.\".format(file_input_path))\n",
    "else:\n",
    "    print(\"File not found : {}\".format(file_input_path))"
   ]
  },
  {
   "cell_type": "markdown",
   "metadata": {},
   "source": [
    "Let's read input data into a dataframe"
   ]
  },
  {
   "cell_type": "code",
   "execution_count": 5,
   "metadata": {
    "ExecuteTime": {
     "end_time": "2019-12-21T19:32:38.896087Z",
     "start_time": "2019-12-21T19:32:38.877284Z"
    }
   },
   "outputs": [],
   "source": [
    "df = pd.read_csv(file_input_path, header=0)"
   ]
  },
  {
   "cell_type": "markdown",
   "metadata": {},
   "source": [
    "# Reviewing the loaded data"
   ]
  },
  {
   "cell_type": "code",
   "execution_count": 6,
   "metadata": {
    "ExecuteTime": {
     "end_time": "2019-12-21T19:32:38.916142Z",
     "start_time": "2019-12-21T19:32:38.897800Z"
    }
   },
   "outputs": [
    {
     "data": {
      "text/plain": [
       "Index(['Cement', 'Blast Furnace Slag', 'Fly Ash', 'Water', 'Superplasticizer',\n",
       "       'Coarse Aggregate', 'Fine Aggregate', 'Age', 'Strength'],\n",
       "      dtype='object')"
      ]
     },
     "execution_count": 6,
     "metadata": {},
     "output_type": "execute_result"
    }
   ],
   "source": [
    "df.columns"
   ]
  },
  {
   "cell_type": "code",
   "execution_count": 7,
   "metadata": {
    "ExecuteTime": {
     "end_time": "2019-12-21T19:32:38.967271Z",
     "start_time": "2019-12-21T19:32:38.917681Z"
    }
   },
   "outputs": [
    {
     "data": {
      "text/html": [
       "<div>\n",
       "<style scoped>\n",
       "    .dataframe tbody tr th:only-of-type {\n",
       "        vertical-align: middle;\n",
       "    }\n",
       "\n",
       "    .dataframe tbody tr th {\n",
       "        vertical-align: top;\n",
       "    }\n",
       "\n",
       "    .dataframe thead th {\n",
       "        text-align: right;\n",
       "    }\n",
       "</style>\n",
       "<table border=\"1\" class=\"dataframe\">\n",
       "  <thead>\n",
       "    <tr style=\"text-align: right;\">\n",
       "      <th></th>\n",
       "      <th>Cement</th>\n",
       "      <th>Blast Furnace Slag</th>\n",
       "      <th>Fly Ash</th>\n",
       "      <th>Water</th>\n",
       "      <th>Superplasticizer</th>\n",
       "      <th>Coarse Aggregate</th>\n",
       "      <th>Fine Aggregate</th>\n",
       "      <th>Age</th>\n",
       "      <th>Strength</th>\n",
       "    </tr>\n",
       "  </thead>\n",
       "  <tbody>\n",
       "    <tr>\n",
       "      <td>count</td>\n",
       "      <td>1030.000000</td>\n",
       "      <td>1030.000000</td>\n",
       "      <td>1030.000000</td>\n",
       "      <td>1030.000000</td>\n",
       "      <td>1030.000000</td>\n",
       "      <td>1030.000000</td>\n",
       "      <td>1030.000000</td>\n",
       "      <td>1030.000000</td>\n",
       "      <td>1030.000000</td>\n",
       "    </tr>\n",
       "    <tr>\n",
       "      <td>mean</td>\n",
       "      <td>281.167864</td>\n",
       "      <td>73.895825</td>\n",
       "      <td>54.188350</td>\n",
       "      <td>181.567282</td>\n",
       "      <td>6.204660</td>\n",
       "      <td>972.918932</td>\n",
       "      <td>773.580485</td>\n",
       "      <td>45.662136</td>\n",
       "      <td>35.817961</td>\n",
       "    </tr>\n",
       "    <tr>\n",
       "      <td>std</td>\n",
       "      <td>104.506364</td>\n",
       "      <td>86.279342</td>\n",
       "      <td>63.997004</td>\n",
       "      <td>21.354219</td>\n",
       "      <td>5.973841</td>\n",
       "      <td>77.753954</td>\n",
       "      <td>80.175980</td>\n",
       "      <td>63.169912</td>\n",
       "      <td>16.705742</td>\n",
       "    </tr>\n",
       "    <tr>\n",
       "      <td>min</td>\n",
       "      <td>102.000000</td>\n",
       "      <td>0.000000</td>\n",
       "      <td>0.000000</td>\n",
       "      <td>121.800000</td>\n",
       "      <td>0.000000</td>\n",
       "      <td>801.000000</td>\n",
       "      <td>594.000000</td>\n",
       "      <td>1.000000</td>\n",
       "      <td>2.330000</td>\n",
       "    </tr>\n",
       "    <tr>\n",
       "      <td>25%</td>\n",
       "      <td>192.375000</td>\n",
       "      <td>0.000000</td>\n",
       "      <td>0.000000</td>\n",
       "      <td>164.900000</td>\n",
       "      <td>0.000000</td>\n",
       "      <td>932.000000</td>\n",
       "      <td>730.950000</td>\n",
       "      <td>7.000000</td>\n",
       "      <td>23.710000</td>\n",
       "    </tr>\n",
       "    <tr>\n",
       "      <td>50%</td>\n",
       "      <td>272.900000</td>\n",
       "      <td>22.000000</td>\n",
       "      <td>0.000000</td>\n",
       "      <td>185.000000</td>\n",
       "      <td>6.400000</td>\n",
       "      <td>968.000000</td>\n",
       "      <td>779.500000</td>\n",
       "      <td>28.000000</td>\n",
       "      <td>34.445000</td>\n",
       "    </tr>\n",
       "    <tr>\n",
       "      <td>75%</td>\n",
       "      <td>350.000000</td>\n",
       "      <td>142.950000</td>\n",
       "      <td>118.300000</td>\n",
       "      <td>192.000000</td>\n",
       "      <td>10.200000</td>\n",
       "      <td>1029.400000</td>\n",
       "      <td>824.000000</td>\n",
       "      <td>56.000000</td>\n",
       "      <td>46.135000</td>\n",
       "    </tr>\n",
       "    <tr>\n",
       "      <td>max</td>\n",
       "      <td>540.000000</td>\n",
       "      <td>359.400000</td>\n",
       "      <td>200.100000</td>\n",
       "      <td>247.000000</td>\n",
       "      <td>32.200000</td>\n",
       "      <td>1145.000000</td>\n",
       "      <td>992.600000</td>\n",
       "      <td>365.000000</td>\n",
       "      <td>82.600000</td>\n",
       "    </tr>\n",
       "  </tbody>\n",
       "</table>\n",
       "</div>"
      ],
      "text/plain": [
       "            Cement  Blast Furnace Slag      Fly Ash        Water  \\\n",
       "count  1030.000000         1030.000000  1030.000000  1030.000000   \n",
       "mean    281.167864           73.895825    54.188350   181.567282   \n",
       "std     104.506364           86.279342    63.997004    21.354219   \n",
       "min     102.000000            0.000000     0.000000   121.800000   \n",
       "25%     192.375000            0.000000     0.000000   164.900000   \n",
       "50%     272.900000           22.000000     0.000000   185.000000   \n",
       "75%     350.000000          142.950000   118.300000   192.000000   \n",
       "max     540.000000          359.400000   200.100000   247.000000   \n",
       "\n",
       "       Superplasticizer  Coarse Aggregate  Fine Aggregate          Age  \\\n",
       "count       1030.000000       1030.000000     1030.000000  1030.000000   \n",
       "mean           6.204660        972.918932      773.580485    45.662136   \n",
       "std            5.973841         77.753954       80.175980    63.169912   \n",
       "min            0.000000        801.000000      594.000000     1.000000   \n",
       "25%            0.000000        932.000000      730.950000     7.000000   \n",
       "50%            6.400000        968.000000      779.500000    28.000000   \n",
       "75%           10.200000       1029.400000      824.000000    56.000000   \n",
       "max           32.200000       1145.000000      992.600000   365.000000   \n",
       "\n",
       "          Strength  \n",
       "count  1030.000000  \n",
       "mean     35.817961  \n",
       "std      16.705742  \n",
       "min       2.330000  \n",
       "25%      23.710000  \n",
       "50%      34.445000  \n",
       "75%      46.135000  \n",
       "max      82.600000  "
      ]
     },
     "execution_count": 7,
     "metadata": {},
     "output_type": "execute_result"
    }
   ],
   "source": [
    "df.describe()"
   ]
  },
  {
   "cell_type": "code",
   "execution_count": 8,
   "metadata": {
    "ExecuteTime": {
     "end_time": "2019-12-21T19:32:38.975487Z",
     "start_time": "2019-12-21T19:32:38.969455Z"
    }
   },
   "outputs": [
    {
     "name": "stdout",
     "output_type": "stream",
     "text": [
      "<class 'pandas.core.frame.DataFrame'>\n",
      "RangeIndex: 1030 entries, 0 to 1029\n",
      "Data columns (total 9 columns):\n",
      "Cement                1030 non-null float64\n",
      "Blast Furnace Slag    1030 non-null float64\n",
      "Fly Ash               1030 non-null float64\n",
      "Water                 1030 non-null float64\n",
      "Superplasticizer      1030 non-null float64\n",
      "Coarse Aggregate      1030 non-null float64\n",
      "Fine Aggregate        1030 non-null float64\n",
      "Age                   1030 non-null int64\n",
      "Strength              1030 non-null float64\n",
      "dtypes: float64(8), int64(1)\n",
      "memory usage: 72.5 KB\n"
     ]
    }
   ],
   "source": [
    "df.info()"
   ]
  },
  {
   "cell_type": "code",
   "execution_count": 9,
   "metadata": {
    "ExecuteTime": {
     "end_time": "2019-12-21T19:32:38.999453Z",
     "start_time": "2019-12-21T19:32:38.976900Z"
    }
   },
   "outputs": [
    {
     "data": {
      "text/html": [
       "<div>\n",
       "<style scoped>\n",
       "    .dataframe tbody tr th:only-of-type {\n",
       "        vertical-align: middle;\n",
       "    }\n",
       "\n",
       "    .dataframe tbody tr th {\n",
       "        vertical-align: top;\n",
       "    }\n",
       "\n",
       "    .dataframe thead th {\n",
       "        text-align: right;\n",
       "    }\n",
       "</style>\n",
       "<table border=\"1\" class=\"dataframe\">\n",
       "  <thead>\n",
       "    <tr style=\"text-align: right;\">\n",
       "      <th></th>\n",
       "      <th>Cement</th>\n",
       "      <th>Blast Furnace Slag</th>\n",
       "      <th>Fly Ash</th>\n",
       "      <th>Water</th>\n",
       "      <th>Superplasticizer</th>\n",
       "      <th>Coarse Aggregate</th>\n",
       "      <th>Fine Aggregate</th>\n",
       "      <th>Age</th>\n",
       "      <th>Strength</th>\n",
       "    </tr>\n",
       "  </thead>\n",
       "  <tbody>\n",
       "    <tr>\n",
       "      <td>0</td>\n",
       "      <td>540.0</td>\n",
       "      <td>0.0</td>\n",
       "      <td>0.0</td>\n",
       "      <td>162.0</td>\n",
       "      <td>2.5</td>\n",
       "      <td>1040.0</td>\n",
       "      <td>676.0</td>\n",
       "      <td>28</td>\n",
       "      <td>79.99</td>\n",
       "    </tr>\n",
       "    <tr>\n",
       "      <td>1</td>\n",
       "      <td>540.0</td>\n",
       "      <td>0.0</td>\n",
       "      <td>0.0</td>\n",
       "      <td>162.0</td>\n",
       "      <td>2.5</td>\n",
       "      <td>1055.0</td>\n",
       "      <td>676.0</td>\n",
       "      <td>28</td>\n",
       "      <td>61.89</td>\n",
       "    </tr>\n",
       "    <tr>\n",
       "      <td>2</td>\n",
       "      <td>332.5</td>\n",
       "      <td>142.5</td>\n",
       "      <td>0.0</td>\n",
       "      <td>228.0</td>\n",
       "      <td>0.0</td>\n",
       "      <td>932.0</td>\n",
       "      <td>594.0</td>\n",
       "      <td>270</td>\n",
       "      <td>40.27</td>\n",
       "    </tr>\n",
       "  </tbody>\n",
       "</table>\n",
       "</div>"
      ],
      "text/plain": [
       "   Cement  Blast Furnace Slag  Fly Ash  Water  Superplasticizer  \\\n",
       "0   540.0                 0.0      0.0  162.0               2.5   \n",
       "1   540.0                 0.0      0.0  162.0               2.5   \n",
       "2   332.5               142.5      0.0  228.0               0.0   \n",
       "\n",
       "   Coarse Aggregate  Fine Aggregate  Age  Strength  \n",
       "0            1040.0           676.0   28     79.99  \n",
       "1            1055.0           676.0   28     61.89  \n",
       "2             932.0           594.0  270     40.27  "
      ]
     },
     "execution_count": 9,
     "metadata": {},
     "output_type": "execute_result"
    }
   ],
   "source": [
    "df.head(3)"
   ]
  },
  {
   "cell_type": "markdown",
   "metadata": {},
   "source": [
    "So the first concrete sample has \"540\" cubic meter of cement, \"0\" cubic meter of blast furnace slag, \"0\" cubic meter of fly ash, \"162\" cubic meter of water, \"2.5\" cubic meter of superplaticizer, \"1040\" cubic meter of coarse aggregate, \"676\" cubic meter of fine aggregate. Such a concrete mix which is \"28\" days old, has a compressive strength of \"79.99\" MPa. "
   ]
  },
  {
   "cell_type": "code",
   "execution_count": 10,
   "metadata": {
    "ExecuteTime": {
     "end_time": "2019-12-21T19:32:39.014984Z",
     "start_time": "2019-12-21T19:32:39.000970Z"
    }
   },
   "outputs": [
    {
     "name": "stdout",
     "output_type": "stream",
     "text": [
      "(row, column) = (1030, 9)\n"
     ]
    }
   ],
   "source": [
    "print(\"(row, column) = {}\".format(df.shape))"
   ]
  },
  {
   "cell_type": "markdown",
   "metadata": {},
   "source": [
    "So, there are approximately 1000 samples to train our model on when splitting with 30% for the data of testing."
   ]
  },
  {
   "cell_type": "markdown",
   "metadata": {},
   "source": [
    "Let's check the data for any missing value"
   ]
  },
  {
   "cell_type": "code",
   "execution_count": 11,
   "metadata": {
    "ExecuteTime": {
     "end_time": "2019-12-21T19:32:39.033956Z",
     "start_time": "2019-12-21T19:32:39.016510Z"
    }
   },
   "outputs": [
    {
     "data": {
      "text/plain": [
       "Cement                0\n",
       "Blast Furnace Slag    0\n",
       "Fly Ash               0\n",
       "Water                 0\n",
       "Superplasticizer      0\n",
       "Coarse Aggregate      0\n",
       "Fine Aggregate        0\n",
       "Age                   0\n",
       "Strength              0\n",
       "dtype: int64"
      ]
     },
     "execution_count": 11,
     "metadata": {},
     "output_type": "execute_result"
    }
   ],
   "source": [
    "df.isnull().sum()"
   ]
  },
  {
   "cell_type": "markdown",
   "metadata": {},
   "source": [
    "As you see, the above input corpus look pretty good to train the model. However, we could use the normalization technique to normalize it. "
   ]
  },
  {
   "cell_type": "markdown",
   "metadata": {},
   "source": [
    "# Normalizing input data"
   ]
  },
  {
   "cell_type": "code",
   "execution_count": 12,
   "metadata": {
    "ExecuteTime": {
     "end_time": "2019-12-21T19:32:39.050114Z",
     "start_time": "2019-12-21T19:32:39.035349Z"
    }
   },
   "outputs": [
    {
     "data": {
      "text/plain": [
       "Index(['Cement', 'Blast Furnace Slag', 'Fly Ash', 'Water', 'Superplasticizer',\n",
       "       'Coarse Aggregate', 'Fine Aggregate', 'Age', 'Strength'],\n",
       "      dtype='object')"
      ]
     },
     "execution_count": 12,
     "metadata": {},
     "output_type": "execute_result"
    }
   ],
   "source": [
    "list_of_column_names = df.columns\n",
    "list_of_column_names"
   ]
  },
  {
   "cell_type": "markdown",
   "metadata": {},
   "source": [
    "## Splitting into predictors and target"
   ]
  },
  {
   "cell_type": "markdown",
   "metadata": {},
   "source": [
    "Filtering the list of column names of dataframe predictors"
   ]
  },
  {
   "cell_type": "code",
   "execution_count": 13,
   "metadata": {
    "ExecuteTime": {
     "end_time": "2019-12-21T19:32:39.065091Z",
     "start_time": "2019-12-21T19:32:39.051628Z"
    }
   },
   "outputs": [],
   "source": [
    "list_of_col_names_predictors = [x for x in list_of_column_names \n",
    "                                if x != COL_NAME_STRENGTH]"
   ]
  },
  {
   "cell_type": "code",
   "execution_count": 14,
   "metadata": {
    "ExecuteTime": {
     "end_time": "2019-12-21T19:32:39.087347Z",
     "start_time": "2019-12-21T19:32:39.066687Z"
    }
   },
   "outputs": [
    {
     "data": {
      "text/plain": [
       "['Cement',\n",
       " 'Blast Furnace Slag',\n",
       " 'Fly Ash',\n",
       " 'Water',\n",
       " 'Superplasticizer',\n",
       " 'Coarse Aggregate',\n",
       " 'Fine Aggregate',\n",
       " 'Age']"
      ]
     },
     "execution_count": 14,
     "metadata": {},
     "output_type": "execute_result"
    }
   ],
   "source": [
    "list_of_col_names_predictors"
   ]
  },
  {
   "cell_type": "code",
   "execution_count": 15,
   "metadata": {
    "ExecuteTime": {
     "end_time": "2019-12-21T19:32:39.104804Z",
     "start_time": "2019-12-21T19:32:39.088825Z"
    }
   },
   "outputs": [],
   "source": [
    "df_predictors = df[list_of_col_names_predictors]"
   ]
  },
  {
   "cell_type": "code",
   "execution_count": 16,
   "metadata": {
    "ExecuteTime": {
     "end_time": "2019-12-21T19:32:39.119780Z",
     "start_time": "2019-12-21T19:32:39.106190Z"
    }
   },
   "outputs": [],
   "source": [
    "df_target = df[[COL_NAME_STRENGTH]]"
   ]
  },
  {
   "cell_type": "markdown",
   "metadata": {},
   "source": [
    "Reviewing the data in two dataframes: predictors and target"
   ]
  },
  {
   "cell_type": "code",
   "execution_count": 17,
   "metadata": {
    "ExecuteTime": {
     "end_time": "2019-12-21T19:32:39.143677Z",
     "start_time": "2019-12-21T19:32:39.121287Z"
    }
   },
   "outputs": [
    {
     "data": {
      "text/html": [
       "<div>\n",
       "<style scoped>\n",
       "    .dataframe tbody tr th:only-of-type {\n",
       "        vertical-align: middle;\n",
       "    }\n",
       "\n",
       "    .dataframe tbody tr th {\n",
       "        vertical-align: top;\n",
       "    }\n",
       "\n",
       "    .dataframe thead th {\n",
       "        text-align: right;\n",
       "    }\n",
       "</style>\n",
       "<table border=\"1\" class=\"dataframe\">\n",
       "  <thead>\n",
       "    <tr style=\"text-align: right;\">\n",
       "      <th></th>\n",
       "      <th>Cement</th>\n",
       "      <th>Blast Furnace Slag</th>\n",
       "      <th>Fly Ash</th>\n",
       "      <th>Water</th>\n",
       "      <th>Superplasticizer</th>\n",
       "      <th>Coarse Aggregate</th>\n",
       "      <th>Fine Aggregate</th>\n",
       "      <th>Age</th>\n",
       "    </tr>\n",
       "  </thead>\n",
       "  <tbody>\n",
       "    <tr>\n",
       "      <td>0</td>\n",
       "      <td>540.0</td>\n",
       "      <td>0.0</td>\n",
       "      <td>0.0</td>\n",
       "      <td>162.0</td>\n",
       "      <td>2.5</td>\n",
       "      <td>1040.0</td>\n",
       "      <td>676.0</td>\n",
       "      <td>28</td>\n",
       "    </tr>\n",
       "    <tr>\n",
       "      <td>1</td>\n",
       "      <td>540.0</td>\n",
       "      <td>0.0</td>\n",
       "      <td>0.0</td>\n",
       "      <td>162.0</td>\n",
       "      <td>2.5</td>\n",
       "      <td>1055.0</td>\n",
       "      <td>676.0</td>\n",
       "      <td>28</td>\n",
       "    </tr>\n",
       "    <tr>\n",
       "      <td>2</td>\n",
       "      <td>332.5</td>\n",
       "      <td>142.5</td>\n",
       "      <td>0.0</td>\n",
       "      <td>228.0</td>\n",
       "      <td>0.0</td>\n",
       "      <td>932.0</td>\n",
       "      <td>594.0</td>\n",
       "      <td>270</td>\n",
       "    </tr>\n",
       "  </tbody>\n",
       "</table>\n",
       "</div>"
      ],
      "text/plain": [
       "   Cement  Blast Furnace Slag  Fly Ash  Water  Superplasticizer  \\\n",
       "0   540.0                 0.0      0.0  162.0               2.5   \n",
       "1   540.0                 0.0      0.0  162.0               2.5   \n",
       "2   332.5               142.5      0.0  228.0               0.0   \n",
       "\n",
       "   Coarse Aggregate  Fine Aggregate  Age  \n",
       "0            1040.0           676.0   28  \n",
       "1            1055.0           676.0   28  \n",
       "2             932.0           594.0  270  "
      ]
     },
     "execution_count": 17,
     "metadata": {},
     "output_type": "execute_result"
    }
   ],
   "source": [
    "df_predictors.head(3)"
   ]
  },
  {
   "cell_type": "code",
   "execution_count": 18,
   "metadata": {
    "ExecuteTime": {
     "end_time": "2019-12-21T19:32:39.163837Z",
     "start_time": "2019-12-21T19:32:39.145139Z"
    },
    "scrolled": false
   },
   "outputs": [
    {
     "data": {
      "text/html": [
       "<div>\n",
       "<style scoped>\n",
       "    .dataframe tbody tr th:only-of-type {\n",
       "        vertical-align: middle;\n",
       "    }\n",
       "\n",
       "    .dataframe tbody tr th {\n",
       "        vertical-align: top;\n",
       "    }\n",
       "\n",
       "    .dataframe thead th {\n",
       "        text-align: right;\n",
       "    }\n",
       "</style>\n",
       "<table border=\"1\" class=\"dataframe\">\n",
       "  <thead>\n",
       "    <tr style=\"text-align: right;\">\n",
       "      <th></th>\n",
       "      <th>Strength</th>\n",
       "    </tr>\n",
       "  </thead>\n",
       "  <tbody>\n",
       "    <tr>\n",
       "      <td>0</td>\n",
       "      <td>79.99</td>\n",
       "    </tr>\n",
       "    <tr>\n",
       "      <td>1</td>\n",
       "      <td>61.89</td>\n",
       "    </tr>\n",
       "    <tr>\n",
       "      <td>2</td>\n",
       "      <td>40.27</td>\n",
       "    </tr>\n",
       "  </tbody>\n",
       "</table>\n",
       "</div>"
      ],
      "text/plain": [
       "   Strength\n",
       "0     79.99\n",
       "1     61.89\n",
       "2     40.27"
      ]
     },
     "execution_count": 18,
     "metadata": {},
     "output_type": "execute_result"
    }
   ],
   "source": [
    "df_target.head(3)"
   ]
  },
  {
   "cell_type": "markdown",
   "metadata": {},
   "source": [
    "## Applying normalization method\n",
    "\n",
    "Recall that one way to normalize the data is by subtracting the mean from the individual predictors and dividing by the standard deviation."
   ]
  },
  {
   "cell_type": "code",
   "execution_count": 19,
   "metadata": {
    "ExecuteTime": {
     "end_time": "2019-12-21T19:32:39.189655Z",
     "start_time": "2019-12-21T19:32:39.165549Z"
    }
   },
   "outputs": [],
   "source": [
    "df_predictors_norm = (df_predictors - df_predictors.mean())/df_predictors.std()"
   ]
  },
  {
   "cell_type": "code",
   "execution_count": 20,
   "metadata": {
    "ExecuteTime": {
     "end_time": "2019-12-21T19:32:39.203472Z",
     "start_time": "2019-12-21T19:32:39.191209Z"
    }
   },
   "outputs": [
    {
     "data": {
      "text/html": [
       "<div>\n",
       "<style scoped>\n",
       "    .dataframe tbody tr th:only-of-type {\n",
       "        vertical-align: middle;\n",
       "    }\n",
       "\n",
       "    .dataframe tbody tr th {\n",
       "        vertical-align: top;\n",
       "    }\n",
       "\n",
       "    .dataframe thead th {\n",
       "        text-align: right;\n",
       "    }\n",
       "</style>\n",
       "<table border=\"1\" class=\"dataframe\">\n",
       "  <thead>\n",
       "    <tr style=\"text-align: right;\">\n",
       "      <th></th>\n",
       "      <th>Cement</th>\n",
       "      <th>Blast Furnace Slag</th>\n",
       "      <th>Fly Ash</th>\n",
       "      <th>Water</th>\n",
       "      <th>Superplasticizer</th>\n",
       "      <th>Coarse Aggregate</th>\n",
       "      <th>Fine Aggregate</th>\n",
       "      <th>Age</th>\n",
       "    </tr>\n",
       "  </thead>\n",
       "  <tbody>\n",
       "    <tr>\n",
       "      <td>0</td>\n",
       "      <td>2.476712</td>\n",
       "      <td>-0.856472</td>\n",
       "      <td>-0.846733</td>\n",
       "      <td>-0.916319</td>\n",
       "      <td>-0.620147</td>\n",
       "      <td>0.862735</td>\n",
       "      <td>-1.217079</td>\n",
       "      <td>-0.279597</td>\n",
       "    </tr>\n",
       "    <tr>\n",
       "      <td>1</td>\n",
       "      <td>2.476712</td>\n",
       "      <td>-0.856472</td>\n",
       "      <td>-0.846733</td>\n",
       "      <td>-0.916319</td>\n",
       "      <td>-0.620147</td>\n",
       "      <td>1.055651</td>\n",
       "      <td>-1.217079</td>\n",
       "      <td>-0.279597</td>\n",
       "    </tr>\n",
       "    <tr>\n",
       "      <td>2</td>\n",
       "      <td>0.491187</td>\n",
       "      <td>0.795140</td>\n",
       "      <td>-0.846733</td>\n",
       "      <td>2.174405</td>\n",
       "      <td>-1.038638</td>\n",
       "      <td>-0.526262</td>\n",
       "      <td>-2.239829</td>\n",
       "      <td>3.551340</td>\n",
       "    </tr>\n",
       "  </tbody>\n",
       "</table>\n",
       "</div>"
      ],
      "text/plain": [
       "     Cement  Blast Furnace Slag   Fly Ash     Water  Superplasticizer  \\\n",
       "0  2.476712           -0.856472 -0.846733 -0.916319         -0.620147   \n",
       "1  2.476712           -0.856472 -0.846733 -0.916319         -0.620147   \n",
       "2  0.491187            0.795140 -0.846733  2.174405         -1.038638   \n",
       "\n",
       "   Coarse Aggregate  Fine Aggregate       Age  \n",
       "0          0.862735       -1.217079 -0.279597  \n",
       "1          1.055651       -1.217079 -0.279597  \n",
       "2         -0.526262       -2.239829  3.551340  "
      ]
     },
     "execution_count": 20,
     "metadata": {},
     "output_type": "execute_result"
    }
   ],
   "source": [
    "df_predictors_norm.head(3)"
   ]
  },
  {
   "cell_type": "markdown",
   "metadata": {},
   "source": [
    "# Splitting corpus into training set and testing set"
   ]
  },
  {
   "cell_type": "code",
   "execution_count": 21,
   "metadata": {
    "ExecuteTime": {
     "end_time": "2019-12-21T19:32:39.224492Z",
     "start_time": "2019-12-21T19:32:39.205509Z"
    }
   },
   "outputs": [],
   "source": [
    "# Geting a random 70% of the entire set\n",
    "X_train = df_predictors.sample(frac=0.7, random_state=1)\n",
    "\n",
    "# List of index in X_train\n",
    "list_of_indices_in_x_train = X_train.index\n",
    "\"\"\"\n",
    "Int64Index([339, 244, 882, 567, 923, 358, 576,  27, 994, 563,\n",
    "            ...\n",
    "            999, 342, 256, 182, 617, 300, 690, 791, 240, 230],\n",
    "           dtype='int64', length=721)\n",
    "\"\"\"\n",
    "\n",
    "# Getting the left out portion of the dataset\n",
    "X_test = df_predictors.loc[~df_predictors.index.isin(list_of_indices_in_x_train)]\n",
    "\n",
    "y_train = df_target.loc[df_target.index.isin(list_of_indices_in_x_train)]\n",
    "y_test = df_target.loc[~df_target.index.isin(list_of_indices_in_x_train)]\n",
    "\n",
    "# Normalized input corpus\n",
    "X_train_norm = df_predictors_norm.loc[df_predictors_norm.index.isin(list_of_indices_in_x_train)]\n",
    "X_test_norm = df_predictors_norm.loc[~df_predictors_norm.index.isin(list_of_indices_in_x_train)]"
   ]
  },
  {
   "cell_type": "code",
   "execution_count": 22,
   "metadata": {
    "ExecuteTime": {
     "end_time": "2019-12-21T19:32:39.244041Z",
     "start_time": "2019-12-21T19:32:39.226496Z"
    }
   },
   "outputs": [
    {
     "name": "stdout",
     "output_type": "stream",
     "text": [
      "Training set:  (721, 8) (721, 1)\n",
      "Testing set:  (309, 8) (309, 1)\n",
      "------------------------------------------------------------------------\n",
      "Training set - after normalizing:  (721, 8) (721, 1)\n",
      "Testing set - after normalizing:  (309, 8) (309, 1)\n"
     ]
    }
   ],
   "source": [
    "print(\"Training set: \", X_train.shape, y_train.shape)\n",
    "print(\"Testing set: \", X_test.shape, y_test.shape)\n",
    "\n",
    "print(\"-\" * 72)\n",
    "\n",
    "print(\"Training set - after normalizing: \", X_train_norm.shape, y_train.shape)\n",
    "print(\"Testing set - after normalizing: \", X_test_norm.shape, y_test.shape)"
   ]
  },
  {
   "cell_type": "markdown",
   "metadata": {},
   "source": [
    "# A - Experiment with a baseline model\n",
    "\n",
    "Use the Keras library to build a neural network with the following:\n",
    "\n",
    "   + One hidden layer of **10 nodes**, and a **ReLU activation function**\n",
    "   \n",
    "   + Use the **adam optimizer** and the **mean squared error as the loss function**.\n",
    "\n",
    "1. **Randomly split** the data into a training and test sets by holding **30% of the data for testing**. You can use the train_test_split helper function from Scikit-learn.\n",
    "\n",
    "2. Train the model on the training data using **50 epochs**.\n",
    "\n",
    "3. Evaluate the model on the test data and compute the mean squared error between the predicted concrete strength and the actual concrete strength. You can use the mean_squared_error function from Scikit-learn.\n",
    "\n",
    "4. Repeat steps 1 - 3, 50 times, i.e., create a list of 50 mean squared errors.\n",
    "\n",
    "5. Report the mean and the standard deviation of the mean squared errors."
   ]
  },
  {
   "cell_type": "markdown",
   "metadata": {},
   "source": [
    "## Building and Training with the baseline model"
   ]
  },
  {
   "cell_type": "code",
   "execution_count": 23,
   "metadata": {
    "ExecuteTime": {
     "end_time": "2019-12-21T19:32:39.485295Z",
     "start_time": "2019-12-21T19:32:39.481232Z"
    }
   },
   "outputs": [
    {
     "name": "stdout",
     "output_type": "stream",
     "text": [
      "Number of features for input layer :  8\n"
     ]
    }
   ],
   "source": [
    "num_of_features = X_train.shape[1]\n",
    "print(\"Number of features for input layer : \", num_of_features)"
   ]
  },
  {
   "cell_type": "code",
   "execution_count": 24,
   "metadata": {
    "ExecuteTime": {
     "end_time": "2019-12-21T19:32:39.503137Z",
     "start_time": "2019-12-21T19:32:39.489494Z"
    },
    "scrolled": true
   },
   "outputs": [],
   "source": [
    "def build_baseline_model(num_of_features=3):\n",
    "    \"\"\" Building baseline model that contains:\n",
    "\n",
    "    + One hidden layer of 10 nodes, and a ReLU activation function.\n",
    "    + Use the adam optimizer and the mean squared error as the loss function.\n",
    "    \"\"\"\n",
    "    \n",
    "    # Create model\n",
    "    model = Sequential()\n",
    "\n",
    "    model.add(Dense(10, activation=\"relu\", input_shape=(num_of_features,)))\n",
    "    model.add(Dense(1))\n",
    "\n",
    "    # Compile model\n",
    "    model.compile(optimizer='adam', loss='mean_squared_error')\n",
    "    return model\n",
    "\n",
    "def build_and_fit_baseline_model(X, y, num_of_features=3, epochs=50):\n",
    "    # Build baseline model\n",
    "    model = build_baseline_model(num_of_features=num_of_features)\n",
    "\n",
    "    # Fit the built model with training set\n",
    "    model.fit(X, y, epochs=epochs)\n",
    "    \n",
    "    return model"
   ]
  },
  {
   "cell_type": "code",
   "execution_count": 25,
   "metadata": {
    "ExecuteTime": {
     "end_time": "2019-12-21T19:32:40.961688Z",
     "start_time": "2019-12-21T19:32:39.505128Z"
    },
    "scrolled": true
   },
   "outputs": [
    {
     "name": "stdout",
     "output_type": "stream",
     "text": [
      "Epoch 1/50\n",
      "721/721 [==============================] - 0s 196us/step - loss: 174828.5985\n",
      "Epoch 2/50\n",
      "721/721 [==============================] - 0s 27us/step - loss: 83608.9758\n",
      "Epoch 3/50\n",
      "721/721 [==============================] - 0s 26us/step - loss: 32904.9519\n",
      "Epoch 4/50\n",
      "721/721 [==============================] - 0s 27us/step - loss: 11417.2627\n",
      "Epoch 5/50\n",
      "721/721 [==============================] - 0s 27us/step - loss: 4860.5805\n",
      "Epoch 6/50\n",
      "721/721 [==============================] - 0s 27us/step - loss: 3924.4261\n",
      "Epoch 7/50\n",
      "721/721 [==============================] - 0s 26us/step - loss: 3672.3928\n",
      "Epoch 8/50\n",
      "721/721 [==============================] - 0s 24us/step - loss: 3458.5424\n",
      "Epoch 9/50\n",
      "721/721 [==============================] - 0s 25us/step - loss: 3275.0237\n",
      "Epoch 10/50\n",
      "721/721 [==============================] - 0s 25us/step - loss: 3101.7413\n",
      "Epoch 11/50\n",
      "721/721 [==============================] - 0s 26us/step - loss: 2940.0689\n",
      "Epoch 12/50\n",
      "721/721 [==============================] - 0s 24us/step - loss: 2782.9951\n",
      "Epoch 13/50\n",
      "721/721 [==============================] - 0s 25us/step - loss: 2638.9712\n",
      "Epoch 14/50\n",
      "721/721 [==============================] - 0s 24us/step - loss: 2501.3137\n",
      "Epoch 15/50\n",
      "721/721 [==============================] - 0s 25us/step - loss: 2371.4002\n",
      "Epoch 16/50\n",
      "721/721 [==============================] - 0s 26us/step - loss: 2247.1459\n",
      "Epoch 17/50\n",
      "721/721 [==============================] - 0s 26us/step - loss: 2123.8268\n",
      "Epoch 18/50\n",
      "721/721 [==============================] - 0s 23us/step - loss: 2014.6096\n",
      "Epoch 19/50\n",
      "721/721 [==============================] - 0s 24us/step - loss: 1904.7551\n",
      "Epoch 20/50\n",
      "721/721 [==============================] - 0s 26us/step - loss: 1800.3942\n",
      "Epoch 21/50\n",
      "721/721 [==============================] - 0s 25us/step - loss: 1698.2577\n",
      "Epoch 22/50\n",
      "721/721 [==============================] - 0s 25us/step - loss: 1604.2600\n",
      "Epoch 23/50\n",
      "721/721 [==============================] - 0s 24us/step - loss: 1510.0997\n",
      "Epoch 24/50\n",
      "721/721 [==============================] - 0s 24us/step - loss: 1425.0570\n",
      "Epoch 25/50\n",
      "721/721 [==============================] - 0s 25us/step - loss: 1341.8534\n",
      "Epoch 26/50\n",
      "721/721 [==============================] - 0s 25us/step - loss: 1263.2117\n",
      "Epoch 27/50\n",
      "721/721 [==============================] - 0s 27us/step - loss: 1185.9374\n",
      "Epoch 28/50\n",
      "721/721 [==============================] - 0s 27us/step - loss: 1122.4609\n",
      "Epoch 29/50\n",
      "721/721 [==============================] - 0s 23us/step - loss: 1054.9018\n",
      "Epoch 30/50\n",
      "721/721 [==============================] - 0s 26us/step - loss: 993.7240\n",
      "Epoch 31/50\n",
      "721/721 [==============================] - 0s 24us/step - loss: 929.3085\n",
      "Epoch 32/50\n",
      "721/721 [==============================] - 0s 24us/step - loss: 877.6876\n",
      "Epoch 33/50\n",
      "721/721 [==============================] - 0s 23us/step - loss: 822.2266\n",
      "Epoch 34/50\n",
      "721/721 [==============================] - 0s 23us/step - loss: 775.8369\n",
      "Epoch 35/50\n",
      "721/721 [==============================] - 0s 24us/step - loss: 732.1685\n",
      "Epoch 36/50\n",
      "721/721 [==============================] - 0s 25us/step - loss: 687.5859\n",
      "Epoch 37/50\n",
      "721/721 [==============================] - 0s 25us/step - loss: 648.9218\n",
      "Epoch 38/50\n",
      "721/721 [==============================] - 0s 28us/step - loss: 610.2784\n",
      "Epoch 39/50\n",
      "721/721 [==============================] - 0s 24us/step - loss: 577.7344\n",
      "Epoch 40/50\n",
      "721/721 [==============================] - 0s 25us/step - loss: 545.1162\n",
      "Epoch 41/50\n",
      "721/721 [==============================] - 0s 24us/step - loss: 518.1408\n",
      "Epoch 42/50\n",
      "721/721 [==============================] - 0s 24us/step - loss: 490.6987\n",
      "Epoch 43/50\n",
      "721/721 [==============================] - 0s 24us/step - loss: 468.0286\n",
      "Epoch 44/50\n",
      "721/721 [==============================] - 0s 24us/step - loss: 446.6180\n",
      "Epoch 45/50\n",
      "721/721 [==============================] - 0s 23us/step - loss: 428.2074\n",
      "Epoch 46/50\n",
      "721/721 [==============================] - 0s 26us/step - loss: 411.2074\n",
      "Epoch 47/50\n",
      "721/721 [==============================] - 0s 25us/step - loss: 393.3069\n",
      "Epoch 48/50\n",
      "721/721 [==============================] - 0s 26us/step - loss: 380.9464\n",
      "Epoch 49/50\n",
      "721/721 [==============================] - 0s 26us/step - loss: 368.9332\n",
      "Epoch 50/50\n",
      "721/721 [==============================] - 0s 24us/step - loss: 357.6963\n"
     ]
    }
   ],
   "source": [
    "# Build baseline model & Fit the built model with training set\n",
    "epochs = 50\n",
    "model_A = build_and_fit_baseline_model(X_train, \n",
    "                                      y_train, \n",
    "                                      num_of_features=num_of_features,\n",
    "                                      epochs=epochs)"
   ]
  },
  {
   "cell_type": "markdown",
   "metadata": {},
   "source": [
    "## Predicting the result"
   ]
  },
  {
   "cell_type": "code",
   "execution_count": 26,
   "metadata": {
    "ExecuteTime": {
     "end_time": "2019-12-21T19:32:40.991723Z",
     "start_time": "2019-12-21T19:32:40.963369Z"
    }
   },
   "outputs": [
    {
     "data": {
      "text/plain": [
       "array([[20.566294],\n",
       "       [43.373783],\n",
       "       [29.387392]], dtype=float32)"
      ]
     },
     "execution_count": 26,
     "metadata": {},
     "output_type": "execute_result"
    }
   ],
   "source": [
    "y_hat_A = model_A.predict(X_test)\n",
    "y_hat_A[:3]"
   ]
  },
  {
   "cell_type": "markdown",
   "metadata": {},
   "source": [
    "## Report the mean and the standard deviation of the mean squared errors"
   ]
  },
  {
   "cell_type": "code",
   "execution_count": 27,
   "metadata": {
    "ExecuteTime": {
     "end_time": "2019-12-21T19:32:41.004629Z",
     "start_time": "2019-12-21T19:32:40.993361Z"
    }
   },
   "outputs": [
    {
     "name": "stdout",
     "output_type": "stream",
     "text": [
      "The mean and the standard deviation of the mean squared errors are: 277.65 and 16.66, respectively\n"
     ]
    },
    {
     "data": {
      "text/html": [
       "<div>\n",
       "<style scoped>\n",
       "    .dataframe tbody tr th:only-of-type {\n",
       "        vertical-align: middle;\n",
       "    }\n",
       "\n",
       "    .dataframe tbody tr th {\n",
       "        vertical-align: top;\n",
       "    }\n",
       "\n",
       "    .dataframe thead th {\n",
       "        text-align: right;\n",
       "    }\n",
       "</style>\n",
       "<table border=\"1\" class=\"dataframe\">\n",
       "  <thead>\n",
       "    <tr style=\"text-align: right;\">\n",
       "      <th></th>\n",
       "      <th>Experiment</th>\n",
       "      <th>MSE</th>\n",
       "      <th>RMSE</th>\n",
       "    </tr>\n",
       "  </thead>\n",
       "  <tbody>\n",
       "    <tr>\n",
       "      <td>0</td>\n",
       "      <td>Baseline-Raw (50 epochs)</td>\n",
       "      <td>277.65</td>\n",
       "      <td>16.66</td>\n",
       "    </tr>\n",
       "  </tbody>\n",
       "</table>\n",
       "</div>"
      ],
      "text/plain": [
       "                 Experiment     MSE   RMSE\n",
       "0  Baseline-Raw (50 epochs)  277.65  16.66"
      ]
     },
     "execution_count": 27,
     "metadata": {},
     "output_type": "execute_result"
    }
   ],
   "source": [
    "y_hat = y_hat_A\n",
    "name_of_experiment = \"Baseline-Raw (50 epochs)\"\n",
    "\n",
    "df_result_baseline = get_report_mse_and_rmse(y_test, y_hat, name_of_experiment)\n",
    "\n",
    "# Report the mean and the standard deviation of the mean squared errors\n",
    "df_result_baseline"
   ]
  },
  {
   "cell_type": "code",
   "execution_count": 28,
   "metadata": {
    "ExecuteTime": {
     "end_time": "2019-12-21T19:32:41.026874Z",
     "start_time": "2019-12-21T19:32:41.006594Z"
    }
   },
   "outputs": [
    {
     "data": {
      "text/html": [
       "<div>\n",
       "<style scoped>\n",
       "    .dataframe tbody tr th:only-of-type {\n",
       "        vertical-align: middle;\n",
       "    }\n",
       "\n",
       "    .dataframe tbody tr th {\n",
       "        vertical-align: top;\n",
       "    }\n",
       "\n",
       "    .dataframe thead th {\n",
       "        text-align: right;\n",
       "    }\n",
       "</style>\n",
       "<table border=\"1\" class=\"dataframe\">\n",
       "  <thead>\n",
       "    <tr style=\"text-align: right;\">\n",
       "      <th></th>\n",
       "      <th>Experiment</th>\n",
       "      <th>MSE</th>\n",
       "      <th>RMSE</th>\n",
       "    </tr>\n",
       "  </thead>\n",
       "  <tbody>\n",
       "    <tr>\n",
       "      <td>0</td>\n",
       "      <td>Baseline-Raw (50 epochs)</td>\n",
       "      <td>277.65</td>\n",
       "      <td>16.66</td>\n",
       "    </tr>\n",
       "  </tbody>\n",
       "</table>\n",
       "</div>"
      ],
      "text/plain": [
       "                 Experiment     MSE   RMSE\n",
       "0  Baseline-Raw (50 epochs)  277.65  16.66"
      ]
     },
     "execution_count": 28,
     "metadata": {},
     "output_type": "execute_result"
    }
   ],
   "source": [
    "# Concat baseline dataframe into result\n",
    "df_mse_and_rmse = pd.concat([df_mse_and_rmse, df_result_baseline], axis=0)\n",
    "\n",
    "# Review the result dataframe\n",
    "df_mse_and_rmse"
   ]
  },
  {
   "cell_type": "markdown",
   "metadata": {},
   "source": [
    "# B - Experiment with Normalized Data\n",
    "\n",
    "Repeat Part A but use a normalized version of the data. Recall that one way to normalize the data is by subtracting the mean from the individual predictors and dividing by the standard deviation.\n",
    "\n",
    "How does the mean of the mean squared errors compare to that from Step A?"
   ]
  },
  {
   "cell_type": "markdown",
   "metadata": {},
   "source": [
    "## Normalize the data \n",
    "by substracting the mean and dividing by the standard deviation."
   ]
  },
  {
   "cell_type": "markdown",
   "metadata": {},
   "source": [
    "### Before normalization"
   ]
  },
  {
   "cell_type": "code",
   "execution_count": 29,
   "metadata": {
    "ExecuteTime": {
     "end_time": "2019-12-21T19:32:41.055124Z",
     "start_time": "2019-12-21T19:32:41.028830Z"
    }
   },
   "outputs": [
    {
     "data": {
      "text/html": [
       "<div>\n",
       "<style scoped>\n",
       "    .dataframe tbody tr th:only-of-type {\n",
       "        vertical-align: middle;\n",
       "    }\n",
       "\n",
       "    .dataframe tbody tr th {\n",
       "        vertical-align: top;\n",
       "    }\n",
       "\n",
       "    .dataframe thead th {\n",
       "        text-align: right;\n",
       "    }\n",
       "</style>\n",
       "<table border=\"1\" class=\"dataframe\">\n",
       "  <thead>\n",
       "    <tr style=\"text-align: right;\">\n",
       "      <th></th>\n",
       "      <th>Cement</th>\n",
       "      <th>Blast Furnace Slag</th>\n",
       "      <th>Fly Ash</th>\n",
       "      <th>Water</th>\n",
       "      <th>Superplasticizer</th>\n",
       "      <th>Coarse Aggregate</th>\n",
       "      <th>Fine Aggregate</th>\n",
       "      <th>Age</th>\n",
       "    </tr>\n",
       "  </thead>\n",
       "  <tbody>\n",
       "    <tr>\n",
       "      <td>339</td>\n",
       "      <td>297.2</td>\n",
       "      <td>0.0</td>\n",
       "      <td>117.5</td>\n",
       "      <td>174.8</td>\n",
       "      <td>9.5</td>\n",
       "      <td>1022.8</td>\n",
       "      <td>753.5</td>\n",
       "      <td>3</td>\n",
       "    </tr>\n",
       "    <tr>\n",
       "      <td>244</td>\n",
       "      <td>238.1</td>\n",
       "      <td>0.0</td>\n",
       "      <td>94.1</td>\n",
       "      <td>186.7</td>\n",
       "      <td>7.0</td>\n",
       "      <td>949.9</td>\n",
       "      <td>847.0</td>\n",
       "      <td>3</td>\n",
       "    </tr>\n",
       "    <tr>\n",
       "      <td>882</td>\n",
       "      <td>140.0</td>\n",
       "      <td>133.0</td>\n",
       "      <td>103.0</td>\n",
       "      <td>200.0</td>\n",
       "      <td>7.0</td>\n",
       "      <td>916.0</td>\n",
       "      <td>753.0</td>\n",
       "      <td>28</td>\n",
       "    </tr>\n",
       "  </tbody>\n",
       "</table>\n",
       "</div>"
      ],
      "text/plain": [
       "     Cement  Blast Furnace Slag  Fly Ash  Water  Superplasticizer  \\\n",
       "339   297.2                 0.0    117.5  174.8               9.5   \n",
       "244   238.1                 0.0     94.1  186.7               7.0   \n",
       "882   140.0               133.0    103.0  200.0               7.0   \n",
       "\n",
       "     Coarse Aggregate  Fine Aggregate  Age  \n",
       "339            1022.8           753.5    3  \n",
       "244             949.9           847.0    3  \n",
       "882             916.0           753.0   28  "
      ]
     },
     "execution_count": 29,
     "metadata": {},
     "output_type": "execute_result"
    }
   ],
   "source": [
    "X_train.head(3)"
   ]
  },
  {
   "cell_type": "code",
   "execution_count": 30,
   "metadata": {
    "ExecuteTime": {
     "end_time": "2019-12-21T19:32:41.083302Z",
     "start_time": "2019-12-21T19:32:41.058115Z"
    }
   },
   "outputs": [
    {
     "data": {
      "text/html": [
       "<div>\n",
       "<style scoped>\n",
       "    .dataframe tbody tr th:only-of-type {\n",
       "        vertical-align: middle;\n",
       "    }\n",
       "\n",
       "    .dataframe tbody tr th {\n",
       "        vertical-align: top;\n",
       "    }\n",
       "\n",
       "    .dataframe thead th {\n",
       "        text-align: right;\n",
       "    }\n",
       "</style>\n",
       "<table border=\"1\" class=\"dataframe\">\n",
       "  <thead>\n",
       "    <tr style=\"text-align: right;\">\n",
       "      <th></th>\n",
       "      <th>Cement</th>\n",
       "      <th>Blast Furnace Slag</th>\n",
       "      <th>Fly Ash</th>\n",
       "      <th>Water</th>\n",
       "      <th>Superplasticizer</th>\n",
       "      <th>Coarse Aggregate</th>\n",
       "      <th>Fine Aggregate</th>\n",
       "      <th>Age</th>\n",
       "    </tr>\n",
       "  </thead>\n",
       "  <tbody>\n",
       "    <tr>\n",
       "      <td>7</td>\n",
       "      <td>380.0</td>\n",
       "      <td>95.0</td>\n",
       "      <td>0.0</td>\n",
       "      <td>228.0</td>\n",
       "      <td>0.0</td>\n",
       "      <td>932.0</td>\n",
       "      <td>594.0</td>\n",
       "      <td>28</td>\n",
       "    </tr>\n",
       "    <tr>\n",
       "      <td>10</td>\n",
       "      <td>198.6</td>\n",
       "      <td>132.4</td>\n",
       "      <td>0.0</td>\n",
       "      <td>192.0</td>\n",
       "      <td>0.0</td>\n",
       "      <td>978.4</td>\n",
       "      <td>825.5</td>\n",
       "      <td>90</td>\n",
       "    </tr>\n",
       "    <tr>\n",
       "      <td>15</td>\n",
       "      <td>380.0</td>\n",
       "      <td>0.0</td>\n",
       "      <td>0.0</td>\n",
       "      <td>228.0</td>\n",
       "      <td>0.0</td>\n",
       "      <td>932.0</td>\n",
       "      <td>670.0</td>\n",
       "      <td>90</td>\n",
       "    </tr>\n",
       "  </tbody>\n",
       "</table>\n",
       "</div>"
      ],
      "text/plain": [
       "    Cement  Blast Furnace Slag  Fly Ash  Water  Superplasticizer  \\\n",
       "7    380.0                95.0      0.0  228.0               0.0   \n",
       "10   198.6               132.4      0.0  192.0               0.0   \n",
       "15   380.0                 0.0      0.0  228.0               0.0   \n",
       "\n",
       "    Coarse Aggregate  Fine Aggregate  Age  \n",
       "7              932.0           594.0   28  \n",
       "10             978.4           825.5   90  \n",
       "15             932.0           670.0   90  "
      ]
     },
     "execution_count": 30,
     "metadata": {},
     "output_type": "execute_result"
    }
   ],
   "source": [
    "X_test.head(3)"
   ]
  },
  {
   "cell_type": "markdown",
   "metadata": {},
   "source": [
    "### After normalization"
   ]
  },
  {
   "cell_type": "code",
   "execution_count": 31,
   "metadata": {
    "ExecuteTime": {
     "end_time": "2019-12-21T19:32:41.112085Z",
     "start_time": "2019-12-21T19:32:41.085784Z"
    }
   },
   "outputs": [
    {
     "data": {
      "text/html": [
       "<div>\n",
       "<style scoped>\n",
       "    .dataframe tbody tr th:only-of-type {\n",
       "        vertical-align: middle;\n",
       "    }\n",
       "\n",
       "    .dataframe tbody tr th {\n",
       "        vertical-align: top;\n",
       "    }\n",
       "\n",
       "    .dataframe thead th {\n",
       "        text-align: right;\n",
       "    }\n",
       "</style>\n",
       "<table border=\"1\" class=\"dataframe\">\n",
       "  <thead>\n",
       "    <tr style=\"text-align: right;\">\n",
       "      <th></th>\n",
       "      <th>Cement</th>\n",
       "      <th>Blast Furnace Slag</th>\n",
       "      <th>Fly Ash</th>\n",
       "      <th>Water</th>\n",
       "      <th>Superplasticizer</th>\n",
       "      <th>Coarse Aggregate</th>\n",
       "      <th>Fine Aggregate</th>\n",
       "      <th>Age</th>\n",
       "    </tr>\n",
       "  </thead>\n",
       "  <tbody>\n",
       "    <tr>\n",
       "      <td>0</td>\n",
       "      <td>2.476712</td>\n",
       "      <td>-0.856472</td>\n",
       "      <td>-0.846733</td>\n",
       "      <td>-0.916319</td>\n",
       "      <td>-0.620147</td>\n",
       "      <td>0.862735</td>\n",
       "      <td>-1.217079</td>\n",
       "      <td>-0.279597</td>\n",
       "    </tr>\n",
       "    <tr>\n",
       "      <td>1</td>\n",
       "      <td>2.476712</td>\n",
       "      <td>-0.856472</td>\n",
       "      <td>-0.846733</td>\n",
       "      <td>-0.916319</td>\n",
       "      <td>-0.620147</td>\n",
       "      <td>1.055651</td>\n",
       "      <td>-1.217079</td>\n",
       "      <td>-0.279597</td>\n",
       "    </tr>\n",
       "    <tr>\n",
       "      <td>2</td>\n",
       "      <td>0.491187</td>\n",
       "      <td>0.795140</td>\n",
       "      <td>-0.846733</td>\n",
       "      <td>2.174405</td>\n",
       "      <td>-1.038638</td>\n",
       "      <td>-0.526262</td>\n",
       "      <td>-2.239829</td>\n",
       "      <td>3.551340</td>\n",
       "    </tr>\n",
       "  </tbody>\n",
       "</table>\n",
       "</div>"
      ],
      "text/plain": [
       "     Cement  Blast Furnace Slag   Fly Ash     Water  Superplasticizer  \\\n",
       "0  2.476712           -0.856472 -0.846733 -0.916319         -0.620147   \n",
       "1  2.476712           -0.856472 -0.846733 -0.916319         -0.620147   \n",
       "2  0.491187            0.795140 -0.846733  2.174405         -1.038638   \n",
       "\n",
       "   Coarse Aggregate  Fine Aggregate       Age  \n",
       "0          0.862735       -1.217079 -0.279597  \n",
       "1          1.055651       -1.217079 -0.279597  \n",
       "2         -0.526262       -2.239829  3.551340  "
      ]
     },
     "execution_count": 31,
     "metadata": {},
     "output_type": "execute_result"
    }
   ],
   "source": [
    "X_train_norm.head(3)"
   ]
  },
  {
   "cell_type": "code",
   "execution_count": 32,
   "metadata": {
    "ExecuteTime": {
     "end_time": "2019-12-21T19:32:41.144042Z",
     "start_time": "2019-12-21T19:32:41.114638Z"
    }
   },
   "outputs": [
    {
     "data": {
      "text/html": [
       "<div>\n",
       "<style scoped>\n",
       "    .dataframe tbody tr th:only-of-type {\n",
       "        vertical-align: middle;\n",
       "    }\n",
       "\n",
       "    .dataframe tbody tr th {\n",
       "        vertical-align: top;\n",
       "    }\n",
       "\n",
       "    .dataframe thead th {\n",
       "        text-align: right;\n",
       "    }\n",
       "</style>\n",
       "<table border=\"1\" class=\"dataframe\">\n",
       "  <thead>\n",
       "    <tr style=\"text-align: right;\">\n",
       "      <th></th>\n",
       "      <th>Cement</th>\n",
       "      <th>Blast Furnace Slag</th>\n",
       "      <th>Fly Ash</th>\n",
       "      <th>Water</th>\n",
       "      <th>Superplasticizer</th>\n",
       "      <th>Coarse Aggregate</th>\n",
       "      <th>Fine Aggregate</th>\n",
       "      <th>Age</th>\n",
       "    </tr>\n",
       "  </thead>\n",
       "  <tbody>\n",
       "    <tr>\n",
       "      <td>7</td>\n",
       "      <td>0.945704</td>\n",
       "      <td>0.244603</td>\n",
       "      <td>-0.846733</td>\n",
       "      <td>2.174405</td>\n",
       "      <td>-1.038638</td>\n",
       "      <td>-0.526262</td>\n",
       "      <td>-2.239829</td>\n",
       "      <td>-0.279597</td>\n",
       "    </tr>\n",
       "    <tr>\n",
       "      <td>10</td>\n",
       "      <td>-0.790075</td>\n",
       "      <td>0.678079</td>\n",
       "      <td>-0.846733</td>\n",
       "      <td>0.488555</td>\n",
       "      <td>-1.038638</td>\n",
       "      <td>0.070492</td>\n",
       "      <td>0.647569</td>\n",
       "      <td>0.701883</td>\n",
       "    </tr>\n",
       "    <tr>\n",
       "      <td>15</td>\n",
       "      <td>0.945704</td>\n",
       "      <td>-0.856472</td>\n",
       "      <td>-0.846733</td>\n",
       "      <td>2.174405</td>\n",
       "      <td>-1.038638</td>\n",
       "      <td>-0.526262</td>\n",
       "      <td>-1.291914</td>\n",
       "      <td>0.701883</td>\n",
       "    </tr>\n",
       "  </tbody>\n",
       "</table>\n",
       "</div>"
      ],
      "text/plain": [
       "      Cement  Blast Furnace Slag   Fly Ash     Water  Superplasticizer  \\\n",
       "7   0.945704            0.244603 -0.846733  2.174405         -1.038638   \n",
       "10 -0.790075            0.678079 -0.846733  0.488555         -1.038638   \n",
       "15  0.945704           -0.856472 -0.846733  2.174405         -1.038638   \n",
       "\n",
       "    Coarse Aggregate  Fine Aggregate       Age  \n",
       "7          -0.526262       -2.239829 -0.279597  \n",
       "10          0.070492        0.647569  0.701883  \n",
       "15         -0.526262       -1.291914  0.701883  "
      ]
     },
     "execution_count": 32,
     "metadata": {},
     "output_type": "execute_result"
    }
   ],
   "source": [
    "X_test_norm[:3]"
   ]
  },
  {
   "cell_type": "markdown",
   "metadata": {},
   "source": [
    "## Building and Training with the baseline model after normalizing the data with 50 epochs"
   ]
  },
  {
   "cell_type": "code",
   "execution_count": 33,
   "metadata": {
    "ExecuteTime": {
     "end_time": "2019-12-21T19:32:42.595386Z",
     "start_time": "2019-12-21T19:32:41.146302Z"
    },
    "scrolled": true
   },
   "outputs": [
    {
     "name": "stdout",
     "output_type": "stream",
     "text": [
      "Epoch 1/50\n",
      "721/721 [==============================] - 0s 163us/step - loss: 1586.8307\n",
      "Epoch 2/50\n",
      "721/721 [==============================] - 0s 26us/step - loss: 1570.2387\n",
      "Epoch 3/50\n",
      "721/721 [==============================] - 0s 28us/step - loss: 1553.9020\n",
      "Epoch 4/50\n",
      "721/721 [==============================] - 0s 25us/step - loss: 1537.5478\n",
      "Epoch 5/50\n",
      "721/721 [==============================] - 0s 26us/step - loss: 1521.1124\n",
      "Epoch 6/50\n",
      "721/721 [==============================] - 0s 29us/step - loss: 1504.5552\n",
      "Epoch 7/50\n",
      "721/721 [==============================] - 0s 26us/step - loss: 1487.4872\n",
      "Epoch 8/50\n",
      "721/721 [==============================] - 0s 24us/step - loss: 1470.1638\n",
      "Epoch 9/50\n",
      "721/721 [==============================] - 0s 26us/step - loss: 1452.4176\n",
      "Epoch 10/50\n",
      "721/721 [==============================] - 0s 30us/step - loss: 1433.5649\n",
      "Epoch 11/50\n",
      "721/721 [==============================] - 0s 23us/step - loss: 1414.4640\n",
      "Epoch 12/50\n",
      "721/721 [==============================] - 0s 24us/step - loss: 1394.3647\n",
      "Epoch 13/50\n",
      "721/721 [==============================] - 0s 23us/step - loss: 1373.5556\n",
      "Epoch 14/50\n",
      "721/721 [==============================] - 0s 24us/step - loss: 1351.6871\n",
      "Epoch 15/50\n",
      "721/721 [==============================] - 0s 24us/step - loss: 1328.9087\n",
      "Epoch 16/50\n",
      "721/721 [==============================] - 0s 24us/step - loss: 1305.2766\n",
      "Epoch 17/50\n",
      "721/721 [==============================] - 0s 23us/step - loss: 1280.6097\n",
      "Epoch 18/50\n",
      "721/721 [==============================] - 0s 24us/step - loss: 1254.9060\n",
      "Epoch 19/50\n",
      "721/721 [==============================] - 0s 24us/step - loss: 1228.7187\n",
      "Epoch 20/50\n",
      "721/721 [==============================] - 0s 27us/step - loss: 1201.3104\n",
      "Epoch 21/50\n",
      "721/721 [==============================] - 0s 28us/step - loss: 1173.6726\n",
      "Epoch 22/50\n",
      "721/721 [==============================] - 0s 26us/step - loss: 1144.7161\n",
      "Epoch 23/50\n",
      "721/721 [==============================] - 0s 24us/step - loss: 1115.4226\n",
      "Epoch 24/50\n",
      "721/721 [==============================] - 0s 23us/step - loss: 1085.2995\n",
      "Epoch 25/50\n",
      "721/721 [==============================] - 0s 24us/step - loss: 1054.6942\n",
      "Epoch 26/50\n",
      "721/721 [==============================] - 0s 24us/step - loss: 1024.0516\n",
      "Epoch 27/50\n",
      "721/721 [==============================] - 0s 24us/step - loss: 992.7770\n",
      "Epoch 28/50\n",
      "721/721 [==============================] - 0s 23us/step - loss: 961.5718\n",
      "Epoch 29/50\n",
      "721/721 [==============================] - 0s 24us/step - loss: 930.3017\n",
      "Epoch 30/50\n",
      "721/721 [==============================] - 0s 25us/step - loss: 898.5651\n",
      "Epoch 31/50\n",
      "721/721 [==============================] - 0s 27us/step - loss: 867.1328\n",
      "Epoch 32/50\n",
      "721/721 [==============================] - 0s 26us/step - loss: 836.3123\n",
      "Epoch 33/50\n",
      "721/721 [==============================] - 0s 26us/step - loss: 805.5118\n",
      "Epoch 34/50\n",
      "721/721 [==============================] - 0s 25us/step - loss: 774.8757\n",
      "Epoch 35/50\n",
      "721/721 [==============================] - 0s 25us/step - loss: 745.2717\n",
      "Epoch 36/50\n",
      "721/721 [==============================] - 0s 24us/step - loss: 715.6293\n",
      "Epoch 37/50\n",
      "721/721 [==============================] - 0s 25us/step - loss: 687.6274\n",
      "Epoch 38/50\n",
      "721/721 [==============================] - 0s 24us/step - loss: 659.2526\n",
      "Epoch 39/50\n",
      "721/721 [==============================] - 0s 24us/step - loss: 632.3615\n",
      "Epoch 40/50\n",
      "721/721 [==============================] - 0s 23us/step - loss: 605.7775\n",
      "Epoch 41/50\n",
      "721/721 [==============================] - 0s 24us/step - loss: 580.3308\n",
      "Epoch 42/50\n",
      "721/721 [==============================] - 0s 24us/step - loss: 555.7854\n",
      "Epoch 43/50\n",
      "721/721 [==============================] - 0s 26us/step - loss: 532.0059\n",
      "Epoch 44/50\n",
      "721/721 [==============================] - 0s 26us/step - loss: 509.4285\n",
      "Epoch 45/50\n",
      "721/721 [==============================] - 0s 26us/step - loss: 487.5675\n",
      "Epoch 46/50\n",
      "721/721 [==============================] - 0s 24us/step - loss: 467.1336\n",
      "Epoch 47/50\n",
      "721/721 [==============================] - 0s 26us/step - loss: 447.4424\n",
      "Epoch 48/50\n",
      "721/721 [==============================] - 0s 24us/step - loss: 429.1079\n",
      "Epoch 49/50\n",
      "721/721 [==============================] - 0s 25us/step - loss: 411.3983\n",
      "Epoch 50/50\n",
      "721/721 [==============================] - 0s 25us/step - loss: 394.9101\n"
     ]
    }
   ],
   "source": [
    "# Build baseline model & Fit the built model with training set\n",
    "epochs = 50\n",
    "model_B = build_and_fit_baseline_model(X_train_norm, \n",
    "                                       y_train, \n",
    "                                       num_of_features=num_of_features,\n",
    "                                       epochs=epochs)"
   ]
  },
  {
   "cell_type": "markdown",
   "metadata": {},
   "source": [
    "## Predicting the result"
   ]
  },
  {
   "cell_type": "code",
   "execution_count": 34,
   "metadata": {
    "ExecuteTime": {
     "end_time": "2019-12-21T19:32:42.621995Z",
     "start_time": "2019-12-21T19:32:42.596778Z"
    }
   },
   "outputs": [
    {
     "data": {
      "text/plain": [
       "array([[15.706019 ],\n",
       "       [ 7.2380624],\n",
       "       [16.208492 ]], dtype=float32)"
      ]
     },
     "execution_count": 34,
     "metadata": {},
     "output_type": "execute_result"
    }
   ],
   "source": [
    "y_hat_B = model_B.predict(X_test_norm)\n",
    "y_hat_B[:3]"
   ]
  },
  {
   "cell_type": "markdown",
   "metadata": {},
   "source": [
    "## Report the mean and the standard deviation of the mean squared errors"
   ]
  },
  {
   "cell_type": "code",
   "execution_count": 35,
   "metadata": {
    "ExecuteTime": {
     "end_time": "2019-12-21T19:32:42.634385Z",
     "start_time": "2019-12-21T19:32:42.623283Z"
    }
   },
   "outputs": [
    {
     "name": "stdout",
     "output_type": "stream",
     "text": [
      "The mean and the standard deviation of the mean squared errors are: 405.01 and 20.12, respectively\n"
     ]
    },
    {
     "data": {
      "text/html": [
       "<div>\n",
       "<style scoped>\n",
       "    .dataframe tbody tr th:only-of-type {\n",
       "        vertical-align: middle;\n",
       "    }\n",
       "\n",
       "    .dataframe tbody tr th {\n",
       "        vertical-align: top;\n",
       "    }\n",
       "\n",
       "    .dataframe thead th {\n",
       "        text-align: right;\n",
       "    }\n",
       "</style>\n",
       "<table border=\"1\" class=\"dataframe\">\n",
       "  <thead>\n",
       "    <tr style=\"text-align: right;\">\n",
       "      <th></th>\n",
       "      <th>Experiment</th>\n",
       "      <th>MSE</th>\n",
       "      <th>RMSE</th>\n",
       "    </tr>\n",
       "  </thead>\n",
       "  <tbody>\n",
       "    <tr>\n",
       "      <td>0</td>\n",
       "      <td>Normalized-1 Hidden Layers(50 epochs)</td>\n",
       "      <td>405.01</td>\n",
       "      <td>20.12</td>\n",
       "    </tr>\n",
       "  </tbody>\n",
       "</table>\n",
       "</div>"
      ],
      "text/plain": [
       "                              Experiment     MSE   RMSE\n",
       "0  Normalized-1 Hidden Layers(50 epochs)  405.01  20.12"
      ]
     },
     "execution_count": 35,
     "metadata": {},
     "output_type": "execute_result"
    }
   ],
   "source": [
    "y_hat = y_hat_B\n",
    "name_of_experiment = \"Normalized-1 Hidden Layers(50 epochs)\"\n",
    "\n",
    "df_result_baseline = get_report_mse_and_rmse(y_test, y_hat, name_of_experiment)\n",
    "\n",
    "# Report the mean and the standard deviation of the mean squared errors\n",
    "df_result_baseline"
   ]
  },
  {
   "cell_type": "code",
   "execution_count": 36,
   "metadata": {
    "ExecuteTime": {
     "end_time": "2019-12-21T19:32:42.655458Z",
     "start_time": "2019-12-21T19:32:42.636236Z"
    }
   },
   "outputs": [
    {
     "data": {
      "text/html": [
       "<div>\n",
       "<style scoped>\n",
       "    .dataframe tbody tr th:only-of-type {\n",
       "        vertical-align: middle;\n",
       "    }\n",
       "\n",
       "    .dataframe tbody tr th {\n",
       "        vertical-align: top;\n",
       "    }\n",
       "\n",
       "    .dataframe thead th {\n",
       "        text-align: right;\n",
       "    }\n",
       "</style>\n",
       "<table border=\"1\" class=\"dataframe\">\n",
       "  <thead>\n",
       "    <tr style=\"text-align: right;\">\n",
       "      <th></th>\n",
       "      <th>Experiment</th>\n",
       "      <th>MSE</th>\n",
       "      <th>RMSE</th>\n",
       "    </tr>\n",
       "  </thead>\n",
       "  <tbody>\n",
       "    <tr>\n",
       "      <td>0</td>\n",
       "      <td>Baseline-Raw (50 epochs)</td>\n",
       "      <td>277.65</td>\n",
       "      <td>16.66</td>\n",
       "    </tr>\n",
       "    <tr>\n",
       "      <td>0</td>\n",
       "      <td>Normalized-1 Hidden Layers(50 epochs)</td>\n",
       "      <td>405.01</td>\n",
       "      <td>20.12</td>\n",
       "    </tr>\n",
       "  </tbody>\n",
       "</table>\n",
       "</div>"
      ],
      "text/plain": [
       "                              Experiment     MSE   RMSE\n",
       "0               Baseline-Raw (50 epochs)  277.65  16.66\n",
       "0  Normalized-1 Hidden Layers(50 epochs)  405.01  20.12"
      ]
     },
     "execution_count": 36,
     "metadata": {},
     "output_type": "execute_result"
    }
   ],
   "source": [
    "# Concat baseline dataframe into result\n",
    "df_mse_and_rmse = pd.concat([df_mse_and_rmse, df_result_baseline], axis=0)\n",
    "\n",
    "# Review the result dataframe\n",
    "df_mse_and_rmse"
   ]
  },
  {
   "cell_type": "markdown",
   "metadata": {},
   "source": [
    "# C. Increate the number of epochs\n",
    "\n",
    "Repeat Part B but use 100 epochs this time for training.\n",
    "\n",
    "How does the mean of the mean squared errors compare to that from Step B?"
   ]
  },
  {
   "cell_type": "markdown",
   "metadata": {},
   "source": [
    "## Building and Training with the baseline model after normalizing the data with 100 epochs"
   ]
  },
  {
   "cell_type": "code",
   "execution_count": 37,
   "metadata": {
    "ExecuteTime": {
     "end_time": "2019-12-21T19:32:45.106231Z",
     "start_time": "2019-12-21T19:32:42.657228Z"
    },
    "scrolled": true
   },
   "outputs": [
    {
     "name": "stdout",
     "output_type": "stream",
     "text": [
      "Epoch 1/100\n",
      "721/721 [==============================] - 0s 162us/step - loss: 1622.7378\n",
      "Epoch 2/100\n",
      "721/721 [==============================] - 0s 29us/step - loss: 1608.4704\n",
      "Epoch 3/100\n",
      "721/721 [==============================] - 0s 27us/step - loss: 1594.6775\n",
      "Epoch 4/100\n",
      "721/721 [==============================] - 0s 25us/step - loss: 1581.0565\n",
      "Epoch 5/100\n",
      "721/721 [==============================] - 0s 26us/step - loss: 1567.3928\n",
      "Epoch 6/100\n",
      "721/721 [==============================] - 0s 24us/step - loss: 1553.3627\n",
      "Epoch 7/100\n",
      "721/721 [==============================] - 0s 23us/step - loss: 1539.1357\n",
      "Epoch 8/100\n",
      "721/721 [==============================] - 0s 27us/step - loss: 1524.3426\n",
      "Epoch 9/100\n",
      "721/721 [==============================] - 0s 27us/step - loss: 1509.0158\n",
      "Epoch 10/100\n",
      "721/721 [==============================] - 0s 24us/step - loss: 1493.4141\n",
      "Epoch 11/100\n",
      "721/721 [==============================] - 0s 30us/step - loss: 1477.0848\n",
      "Epoch 12/100\n",
      "721/721 [==============================] - 0s 34us/step - loss: 1460.1214\n",
      "Epoch 13/100\n",
      "721/721 [==============================] - 0s 26us/step - loss: 1442.2607\n",
      "Epoch 14/100\n",
      "721/721 [==============================] - 0s 25us/step - loss: 1423.6127\n",
      "Epoch 15/100\n",
      "721/721 [==============================] - 0s 29us/step - loss: 1403.8468\n",
      "Epoch 16/100\n",
      "721/721 [==============================] - 0s 29us/step - loss: 1383.4083\n",
      "Epoch 17/100\n",
      "721/721 [==============================] - 0s 28us/step - loss: 1362.0161\n",
      "Epoch 18/100\n",
      "721/721 [==============================] - 0s 24us/step - loss: 1339.4349\n",
      "Epoch 19/100\n",
      "721/721 [==============================] - 0s 26us/step - loss: 1316.4884\n",
      "Epoch 20/100\n",
      "721/721 [==============================] - 0s 27us/step - loss: 1291.8540\n",
      "Epoch 21/100\n",
      "721/721 [==============================] - 0s 25us/step - loss: 1266.6833\n",
      "Epoch 22/100\n",
      "721/721 [==============================] - 0s 24us/step - loss: 1240.4685\n",
      "Epoch 23/100\n",
      "721/721 [==============================] - 0s 27us/step - loss: 1213.6517\n",
      "Epoch 24/100\n",
      "721/721 [==============================] - 0s 26us/step - loss: 1185.3924\n",
      "Epoch 25/100\n",
      "721/721 [==============================] - 0s 26us/step - loss: 1156.6605\n",
      "Epoch 26/100\n",
      "721/721 [==============================] - 0s 24us/step - loss: 1127.1525\n",
      "Epoch 27/100\n",
      "721/721 [==============================] - 0s 26us/step - loss: 1097.5117\n",
      "Epoch 28/100\n",
      "721/721 [==============================] - 0s 25us/step - loss: 1067.2071\n",
      "Epoch 29/100\n",
      "721/721 [==============================] - 0s 25us/step - loss: 1036.5413\n",
      "Epoch 30/100\n",
      "721/721 [==============================] - 0s 29us/step - loss: 1005.3749\n",
      "Epoch 31/100\n",
      "721/721 [==============================] - 0s 24us/step - loss: 974.8493\n",
      "Epoch 32/100\n",
      "721/721 [==============================] - 0s 24us/step - loss: 943.8495\n",
      "Epoch 33/100\n",
      "721/721 [==============================] - 0s 24us/step - loss: 912.8292\n",
      "Epoch 34/100\n",
      "721/721 [==============================] - 0s 29us/step - loss: 882.6737\n",
      "Epoch 35/100\n",
      "721/721 [==============================] - 0s 32us/step - loss: 852.3417\n",
      "Epoch 36/100\n",
      "721/721 [==============================] - 0s 34us/step - loss: 822.7655\n",
      "Epoch 37/100\n",
      "721/721 [==============================] - 0s 26us/step - loss: 793.4954\n",
      "Epoch 38/100\n",
      "721/721 [==============================] - 0s 25us/step - loss: 765.0147\n",
      "Epoch 39/100\n",
      "721/721 [==============================] - 0s 27us/step - loss: 736.8518\n",
      "Epoch 40/100\n",
      "721/721 [==============================] - 0s 26us/step - loss: 710.1911\n",
      "Epoch 41/100\n",
      "721/721 [==============================] - 0s 25us/step - loss: 683.6175\n",
      "Epoch 42/100\n",
      "721/721 [==============================] - 0s 25us/step - loss: 657.5819\n",
      "Epoch 43/100\n",
      "721/721 [==============================] - 0s 25us/step - loss: 632.7691\n",
      "Epoch 44/100\n",
      "721/721 [==============================] - 0s 25us/step - loss: 608.8345\n",
      "Epoch 45/100\n",
      "721/721 [==============================] - 0s 26us/step - loss: 585.8577\n",
      "Epoch 46/100\n",
      "721/721 [==============================] - 0s 26us/step - loss: 563.5207\n",
      "Epoch 47/100\n",
      "721/721 [==============================] - 0s 25us/step - loss: 542.4344\n",
      "Epoch 48/100\n",
      "721/721 [==============================] - 0s 25us/step - loss: 522.1355\n",
      "Epoch 49/100\n",
      "721/721 [==============================] - 0s 25us/step - loss: 503.1192\n",
      "Epoch 50/100\n",
      "721/721 [==============================] - 0s 24us/step - loss: 484.4085\n",
      "Epoch 51/100\n",
      "721/721 [==============================] - 0s 30us/step - loss: 467.3515\n",
      "Epoch 52/100\n",
      "721/721 [==============================] - 0s 27us/step - loss: 450.4756\n",
      "Epoch 53/100\n",
      "721/721 [==============================] - 0s 27us/step - loss: 434.8924\n",
      "Epoch 54/100\n",
      "721/721 [==============================] - 0s 27us/step - loss: 420.1423\n",
      "Epoch 55/100\n",
      "721/721 [==============================] - 0s 26us/step - loss: 406.1090\n",
      "Epoch 56/100\n",
      "721/721 [==============================] - 0s 25us/step - loss: 392.8981\n",
      "Epoch 57/100\n",
      "721/721 [==============================] - 0s 24us/step - loss: 380.3295\n",
      "Epoch 58/100\n",
      "721/721 [==============================] - 0s 27us/step - loss: 368.6966\n",
      "Epoch 59/100\n",
      "721/721 [==============================] - 0s 26us/step - loss: 357.9687\n",
      "Epoch 60/100\n",
      "721/721 [==============================] - 0s 25us/step - loss: 347.4672\n",
      "Epoch 61/100\n",
      "721/721 [==============================] - 0s 26us/step - loss: 337.6599\n",
      "Epoch 62/100\n",
      "721/721 [==============================] - 0s 24us/step - loss: 328.5270\n",
      "Epoch 63/100\n",
      "721/721 [==============================] - 0s 26us/step - loss: 320.0962\n",
      "Epoch 64/100\n",
      "721/721 [==============================] - 0s 24us/step - loss: 312.0925\n",
      "Epoch 65/100\n",
      "721/721 [==============================] - 0s 32us/step - loss: 304.3832\n",
      "Epoch 66/100\n",
      "721/721 [==============================] - 0s 35us/step - loss: 297.3786\n",
      "Epoch 67/100\n",
      "721/721 [==============================] - 0s 30us/step - loss: 290.7234\n",
      "Epoch 68/100\n",
      "721/721 [==============================] - 0s 26us/step - loss: 284.5490\n",
      "Epoch 69/100\n",
      "721/721 [==============================] - 0s 26us/step - loss: 278.6431\n",
      "Epoch 70/100\n",
      "721/721 [==============================] - 0s 27us/step - loss: 273.1301\n",
      "Epoch 71/100\n",
      "721/721 [==============================] - 0s 24us/step - loss: 267.9988\n",
      "Epoch 72/100\n",
      "721/721 [==============================] - 0s 24us/step - loss: 263.2899\n",
      "Epoch 73/100\n",
      "721/721 [==============================] - 0s 25us/step - loss: 258.6417\n",
      "Epoch 74/100\n",
      "721/721 [==============================] - 0s 24us/step - loss: 254.2729\n",
      "Epoch 75/100\n",
      "721/721 [==============================] - 0s 35us/step - loss: 250.2700\n",
      "Epoch 76/100\n",
      "721/721 [==============================] - 0s 33us/step - loss: 246.2621\n",
      "Epoch 77/100\n",
      "721/721 [==============================] - 0s 32us/step - loss: 242.6246\n",
      "Epoch 78/100\n",
      "721/721 [==============================] - 0s 32us/step - loss: 238.9876\n",
      "Epoch 79/100\n",
      "721/721 [==============================] - 0s 30us/step - loss: 235.6531\n",
      "Epoch 80/100\n",
      "721/721 [==============================] - 0s 28us/step - loss: 232.3079\n",
      "Epoch 81/100\n",
      "721/721 [==============================] - 0s 33us/step - loss: 229.2034\n",
      "Epoch 82/100\n",
      "721/721 [==============================] - 0s 28us/step - loss: 226.1929\n",
      "Epoch 83/100\n",
      "721/721 [==============================] - 0s 25us/step - loss: 223.1228\n",
      "Epoch 84/100\n",
      "721/721 [==============================] - 0s 27us/step - loss: 220.2291\n",
      "Epoch 85/100\n",
      "721/721 [==============================] - 0s 27us/step - loss: 217.5268\n",
      "Epoch 86/100\n",
      "721/721 [==============================] - 0s 28us/step - loss: 214.8468\n",
      "Epoch 87/100\n",
      "721/721 [==============================] - 0s 25us/step - loss: 212.2822\n",
      "Epoch 88/100\n",
      "721/721 [==============================] - 0s 27us/step - loss: 209.8203\n",
      "Epoch 89/100\n",
      "721/721 [==============================] - 0s 27us/step - loss: 207.3328\n",
      "Epoch 90/100\n",
      "721/721 [==============================] - 0s 24us/step - loss: 205.0415\n",
      "Epoch 91/100\n",
      "721/721 [==============================] - 0s 24us/step - loss: 202.8781\n",
      "Epoch 92/100\n",
      "721/721 [==============================] - 0s 24us/step - loss: 200.6452\n",
      "Epoch 93/100\n",
      "721/721 [==============================] - 0s 26us/step - loss: 198.5636\n",
      "Epoch 94/100\n",
      "721/721 [==============================] - 0s 25us/step - loss: 196.5449\n",
      "Epoch 95/100\n",
      "721/721 [==============================] - 0s 26us/step - loss: 194.5832\n",
      "Epoch 96/100\n"
     ]
    },
    {
     "name": "stdout",
     "output_type": "stream",
     "text": [
      "721/721 [==============================] - 0s 26us/step - loss: 192.7222\n",
      "Epoch 97/100\n",
      "721/721 [==============================] - 0s 25us/step - loss: 190.9055\n",
      "Epoch 98/100\n",
      "721/721 [==============================] - 0s 25us/step - loss: 189.1162\n",
      "Epoch 99/100\n",
      "721/721 [==============================] - 0s 27us/step - loss: 187.3755\n",
      "Epoch 100/100\n",
      "721/721 [==============================] - 0s 25us/step - loss: 185.7041\n"
     ]
    }
   ],
   "source": [
    "# Build baseline model & Fit the built model with training set\n",
    "epochs = 100\n",
    "model_C = build_and_fit_baseline_model(X_train_norm, \n",
    "                                       y_train, \n",
    "                                       num_of_features=num_of_features,\n",
    "                                       epochs=epochs)"
   ]
  },
  {
   "cell_type": "markdown",
   "metadata": {},
   "source": [
    "## Predicting the result"
   ]
  },
  {
   "cell_type": "code",
   "execution_count": 38,
   "metadata": {
    "ExecuteTime": {
     "end_time": "2019-12-21T19:32:45.134495Z",
     "start_time": "2019-12-21T19:32:45.107566Z"
    }
   },
   "outputs": [
    {
     "data": {
      "text/plain": [
       "array([[45.088585],\n",
       "       [20.125774],\n",
       "       [34.869392]], dtype=float32)"
      ]
     },
     "execution_count": 38,
     "metadata": {},
     "output_type": "execute_result"
    }
   ],
   "source": [
    "y_hat_C = model_C.predict(X_test_norm)\n",
    "y_hat_C[:3]"
   ]
  },
  {
   "cell_type": "markdown",
   "metadata": {},
   "source": [
    "## Report the mean and the standard deviation of the mean squared errors"
   ]
  },
  {
   "cell_type": "code",
   "execution_count": 39,
   "metadata": {
    "ExecuteTime": {
     "end_time": "2019-12-21T19:32:45.147696Z",
     "start_time": "2019-12-21T19:32:45.135803Z"
    }
   },
   "outputs": [
    {
     "name": "stdout",
     "output_type": "stream",
     "text": [
      "The mean and the standard deviation of the mean squared errors are: 177.38 and 13.32, respectively\n"
     ]
    },
    {
     "data": {
      "text/html": [
       "<div>\n",
       "<style scoped>\n",
       "    .dataframe tbody tr th:only-of-type {\n",
       "        vertical-align: middle;\n",
       "    }\n",
       "\n",
       "    .dataframe tbody tr th {\n",
       "        vertical-align: top;\n",
       "    }\n",
       "\n",
       "    .dataframe thead th {\n",
       "        text-align: right;\n",
       "    }\n",
       "</style>\n",
       "<table border=\"1\" class=\"dataframe\">\n",
       "  <thead>\n",
       "    <tr style=\"text-align: right;\">\n",
       "      <th></th>\n",
       "      <th>Experiment</th>\n",
       "      <th>MSE</th>\n",
       "      <th>RMSE</th>\n",
       "    </tr>\n",
       "  </thead>\n",
       "  <tbody>\n",
       "    <tr>\n",
       "      <td>0</td>\n",
       "      <td>Normalized-1 Hidden Layers(100 epochs)</td>\n",
       "      <td>177.38</td>\n",
       "      <td>13.32</td>\n",
       "    </tr>\n",
       "  </tbody>\n",
       "</table>\n",
       "</div>"
      ],
      "text/plain": [
       "                               Experiment     MSE   RMSE\n",
       "0  Normalized-1 Hidden Layers(100 epochs)  177.38  13.32"
      ]
     },
     "execution_count": 39,
     "metadata": {},
     "output_type": "execute_result"
    }
   ],
   "source": [
    "y_hat = y_hat_C\n",
    "name_of_experiment = \"Normalized-1 Hidden Layers(100 epochs)\"\n",
    "\n",
    "df_result_baseline = get_report_mse_and_rmse(y_test, y_hat, name_of_experiment)\n",
    "\n",
    "# Report the mean and the standard deviation of the mean squared errors\n",
    "df_result_baseline"
   ]
  },
  {
   "cell_type": "code",
   "execution_count": 40,
   "metadata": {
    "ExecuteTime": {
     "end_time": "2019-12-21T19:32:45.169872Z",
     "start_time": "2019-12-21T19:32:45.149075Z"
    }
   },
   "outputs": [
    {
     "data": {
      "text/html": [
       "<div>\n",
       "<style scoped>\n",
       "    .dataframe tbody tr th:only-of-type {\n",
       "        vertical-align: middle;\n",
       "    }\n",
       "\n",
       "    .dataframe tbody tr th {\n",
       "        vertical-align: top;\n",
       "    }\n",
       "\n",
       "    .dataframe thead th {\n",
       "        text-align: right;\n",
       "    }\n",
       "</style>\n",
       "<table border=\"1\" class=\"dataframe\">\n",
       "  <thead>\n",
       "    <tr style=\"text-align: right;\">\n",
       "      <th></th>\n",
       "      <th>Experiment</th>\n",
       "      <th>MSE</th>\n",
       "      <th>RMSE</th>\n",
       "    </tr>\n",
       "  </thead>\n",
       "  <tbody>\n",
       "    <tr>\n",
       "      <td>0</td>\n",
       "      <td>Baseline-Raw (50 epochs)</td>\n",
       "      <td>277.65</td>\n",
       "      <td>16.66</td>\n",
       "    </tr>\n",
       "    <tr>\n",
       "      <td>0</td>\n",
       "      <td>Normalized-1 Hidden Layers(50 epochs)</td>\n",
       "      <td>405.01</td>\n",
       "      <td>20.12</td>\n",
       "    </tr>\n",
       "    <tr>\n",
       "      <td>0</td>\n",
       "      <td>Normalized-1 Hidden Layers(100 epochs)</td>\n",
       "      <td>177.38</td>\n",
       "      <td>13.32</td>\n",
       "    </tr>\n",
       "  </tbody>\n",
       "</table>\n",
       "</div>"
      ],
      "text/plain": [
       "                               Experiment     MSE   RMSE\n",
       "0                Baseline-Raw (50 epochs)  277.65  16.66\n",
       "0   Normalized-1 Hidden Layers(50 epochs)  405.01  20.12\n",
       "0  Normalized-1 Hidden Layers(100 epochs)  177.38  13.32"
      ]
     },
     "execution_count": 40,
     "metadata": {},
     "output_type": "execute_result"
    }
   ],
   "source": [
    "# Concat baseline dataframe into result\n",
    "df_mse_and_rmse = pd.concat([df_mse_and_rmse, df_result_baseline], axis=0)\n",
    "\n",
    "# Review the result dataframe\n",
    "df_mse_and_rmse"
   ]
  },
  {
   "cell_type": "markdown",
   "metadata": {},
   "source": [
    "# D. Increase the number of hidden layers\n",
    "\n",
    "Repeat part B but use a neural network with the following instead:\n",
    "\n",
    "- Three hidden layers, each of 10 nodes and ReLU activation function.\n",
    "\n",
    "How does the mean of the mean squared errors compare to that from Step B?"
   ]
  },
  {
   "cell_type": "markdown",
   "metadata": {},
   "source": [
    "## Building and Training with the model"
   ]
  },
  {
   "cell_type": "code",
   "execution_count": 41,
   "metadata": {
    "ExecuteTime": {
     "end_time": "2019-12-21T19:32:45.184649Z",
     "start_time": "2019-12-21T19:32:45.171514Z"
    }
   },
   "outputs": [],
   "source": [
    "def build_model(num_of_features=3):\n",
    "    \"\"\" Building model that contains:\n",
    "    \n",
    "    + Three hidden layers, each of 10 nodes and ReLU activation function.    \n",
    "    + Use the adam optimizer and the mean squared error as the loss function.\n",
    "    \"\"\"\n",
    "    \n",
    "    # Create model\n",
    "    model = Sequential()\n",
    "\n",
    "    model.add(Dense(10, activation=\"relu\", input_shape=(num_of_features,)))\n",
    "    model.add(Dense(10, activation=\"relu\"))\n",
    "    model.add(Dense(10, activation=\"relu\"))\n",
    "    model.add(Dense(1))\n",
    "\n",
    "    # Compile model\n",
    "    model.compile(optimizer='adam', loss='mean_squared_error')\n",
    "    return model\n",
    "\n",
    "def build_and_fit_model(X, y, num_of_features=3, epochs=50):\n",
    "    # Build baseline model\n",
    "    model = build_model(num_of_features=num_of_features)\n",
    "\n",
    "    # Fit the built model with training set\n",
    "    model.fit(X, y, epochs=epochs)\n",
    "    \n",
    "    return model"
   ]
  },
  {
   "cell_type": "markdown",
   "metadata": {},
   "source": [
    "## Building and Training with the model after normalizing the data with 50 epochs"
   ]
  },
  {
   "cell_type": "code",
   "execution_count": 42,
   "metadata": {
    "ExecuteTime": {
     "end_time": "2019-12-21T19:32:47.362877Z",
     "start_time": "2019-12-21T19:32:45.185954Z"
    },
    "scrolled": true
   },
   "outputs": [
    {
     "name": "stdout",
     "output_type": "stream",
     "text": [
      "Epoch 1/50\n",
      "721/721 [==============================] - 0s 256us/step - loss: 1574.2706\n",
      "Epoch 2/50\n",
      "721/721 [==============================] - 0s 36us/step - loss: 1556.2060\n",
      "Epoch 3/50\n",
      "721/721 [==============================] - 0s 38us/step - loss: 1536.8510\n",
      "Epoch 4/50\n",
      "721/721 [==============================] - 0s 45us/step - loss: 1507.2847\n",
      "Epoch 5/50\n",
      "721/721 [==============================] - 0s 37us/step - loss: 1457.1871\n",
      "Epoch 6/50\n",
      "721/721 [==============================] - 0s 35us/step - loss: 1375.0512\n",
      "Epoch 7/50\n",
      "721/721 [==============================] - 0s 29us/step - loss: 1245.8528\n",
      "Epoch 8/50\n",
      "721/721 [==============================] - 0s 30us/step - loss: 1059.3012\n",
      "Epoch 9/50\n",
      "721/721 [==============================] - 0s 30us/step - loss: 816.6478\n",
      "Epoch 10/50\n",
      "721/721 [==============================] - 0s 33us/step - loss: 570.4976\n",
      "Epoch 11/50\n",
      "721/721 [==============================] - 0s 35us/step - loss: 392.5892\n",
      "Epoch 12/50\n",
      "721/721 [==============================] - 0s 37us/step - loss: 301.4610\n",
      "Epoch 13/50\n",
      "721/721 [==============================] - 0s 36us/step - loss: 263.2443\n",
      "Epoch 14/50\n",
      "721/721 [==============================] - 0s 38us/step - loss: 239.3679\n",
      "Epoch 15/50\n",
      "721/721 [==============================] - 0s 36us/step - loss: 225.7083\n",
      "Epoch 16/50\n",
      "721/721 [==============================] - 0s 33us/step - loss: 213.8137\n",
      "Epoch 17/50\n",
      "721/721 [==============================] - 0s 39us/step - loss: 204.7555\n",
      "Epoch 18/50\n",
      "721/721 [==============================] - 0s 34us/step - loss: 195.8786\n",
      "Epoch 19/50\n",
      "721/721 [==============================] - 0s 40us/step - loss: 189.1808\n",
      "Epoch 20/50\n",
      "721/721 [==============================] - 0s 39us/step - loss: 182.3593\n",
      "Epoch 21/50\n",
      "721/721 [==============================] - 0s 38us/step - loss: 176.5278\n",
      "Epoch 22/50\n",
      "721/721 [==============================] - 0s 33us/step - loss: 171.7285\n",
      "Epoch 23/50\n",
      "721/721 [==============================] - 0s 37us/step - loss: 166.1888\n",
      "Epoch 24/50\n",
      "721/721 [==============================] - 0s 36us/step - loss: 161.4113\n",
      "Epoch 25/50\n",
      "721/721 [==============================] - 0s 30us/step - loss: 157.5721\n",
      "Epoch 26/50\n",
      "721/721 [==============================] - 0s 35us/step - loss: 153.7897\n",
      "Epoch 27/50\n",
      "721/721 [==============================] - 0s 39us/step - loss: 150.1495\n",
      "Epoch 28/50\n",
      "721/721 [==============================] - 0s 40us/step - loss: 146.9583\n",
      "Epoch 29/50\n",
      "721/721 [==============================] - 0s 40us/step - loss: 143.9733\n",
      "Epoch 30/50\n",
      "721/721 [==============================] - 0s 36us/step - loss: 141.1963\n",
      "Epoch 31/50\n",
      "721/721 [==============================] - 0s 33us/step - loss: 138.6707\n",
      "Epoch 32/50\n",
      "721/721 [==============================] - 0s 33us/step - loss: 135.9775\n",
      "Epoch 33/50\n",
      "721/721 [==============================] - 0s 34us/step - loss: 133.6383\n",
      "Epoch 34/50\n",
      "721/721 [==============================] - 0s 36us/step - loss: 131.7966\n",
      "Epoch 35/50\n",
      "721/721 [==============================] - 0s 36us/step - loss: 129.2829\n",
      "Epoch 36/50\n",
      "721/721 [==============================] - 0s 38us/step - loss: 127.3413\n",
      "Epoch 37/50\n",
      "721/721 [==============================] - 0s 33us/step - loss: 125.5296\n",
      "Epoch 38/50\n",
      "721/721 [==============================] - 0s 37us/step - loss: 124.0168\n",
      "Epoch 39/50\n",
      "721/721 [==============================] - 0s 33us/step - loss: 122.4758\n",
      "Epoch 40/50\n",
      "721/721 [==============================] - 0s 42us/step - loss: 120.4056\n",
      "Epoch 41/50\n",
      "721/721 [==============================] - 0s 45us/step - loss: 119.0748\n",
      "Epoch 42/50\n",
      "721/721 [==============================] - 0s 47us/step - loss: 117.6076\n",
      "Epoch 43/50\n",
      "721/721 [==============================] - 0s 41us/step - loss: 116.4770\n",
      "Epoch 44/50\n",
      "721/721 [==============================] - 0s 39us/step - loss: 115.3284\n",
      "Epoch 45/50\n",
      "721/721 [==============================] - 0s 43us/step - loss: 114.0011\n",
      "Epoch 46/50\n",
      "721/721 [==============================] - 0s 45us/step - loss: 112.5902\n",
      "Epoch 47/50\n",
      "721/721 [==============================] - 0s 36us/step - loss: 112.0501\n",
      "Epoch 48/50\n",
      "721/721 [==============================] - 0s 40us/step - loss: 110.3555\n",
      "Epoch 49/50\n",
      "721/721 [==============================] - 0s 39us/step - loss: 109.7047\n",
      "Epoch 50/50\n",
      "721/721 [==============================] - 0s 42us/step - loss: 108.8144\n"
     ]
    }
   ],
   "source": [
    "# Build baseline model & Fit the built model with training set\n",
    "epochs = 50\n",
    "model_D = build_and_fit_model(X_train_norm, \n",
    "                              y_train, \n",
    "                              num_of_features=num_of_features,\n",
    "                              epochs=epochs)"
   ]
  },
  {
   "cell_type": "markdown",
   "metadata": {},
   "source": [
    "## Predicting the result"
   ]
  },
  {
   "cell_type": "code",
   "execution_count": 43,
   "metadata": {
    "ExecuteTime": {
     "end_time": "2019-12-21T19:32:47.423759Z",
     "start_time": "2019-12-21T19:32:47.367014Z"
    }
   },
   "outputs": [
    {
     "data": {
      "text/plain": [
       "array([[33.291393],\n",
       "       [22.518543],\n",
       "       [32.91312 ]], dtype=float32)"
      ]
     },
     "execution_count": 43,
     "metadata": {},
     "output_type": "execute_result"
    }
   ],
   "source": [
    "y_hat_D = model_D.predict(X_test_norm)\n",
    "y_hat_D[:3]"
   ]
  },
  {
   "cell_type": "markdown",
   "metadata": {},
   "source": [
    "## Report the mean and the standard deviation of the mean squared errors"
   ]
  },
  {
   "cell_type": "code",
   "execution_count": 44,
   "metadata": {
    "ExecuteTime": {
     "end_time": "2019-12-21T19:32:47.435981Z",
     "start_time": "2019-12-21T19:32:47.427243Z"
    }
   },
   "outputs": [
    {
     "name": "stdout",
     "output_type": "stream",
     "text": [
      "The mean and the standard deviation of the mean squared errors are: 100.04 and 10.0, respectively\n"
     ]
    }
   ],
   "source": [
    "y_hat = y_hat_D\n",
    "name_of_experiment = \"Normalized-3 Hidden Layers(50 epochs)\"\n",
    "                                  \n",
    "# Report the mean and the standard deviation of the mean squared errors\n",
    "df_result_baseline = get_report_mse_and_rmse(y_test, y_hat, name_of_experiment)"
   ]
  },
  {
   "cell_type": "code",
   "execution_count": 45,
   "metadata": {
    "ExecuteTime": {
     "end_time": "2019-12-21T19:32:47.460868Z",
     "start_time": "2019-12-21T19:32:47.438230Z"
    }
   },
   "outputs": [
    {
     "data": {
      "text/html": [
       "<div>\n",
       "<style scoped>\n",
       "    .dataframe tbody tr th:only-of-type {\n",
       "        vertical-align: middle;\n",
       "    }\n",
       "\n",
       "    .dataframe tbody tr th {\n",
       "        vertical-align: top;\n",
       "    }\n",
       "\n",
       "    .dataframe thead th {\n",
       "        text-align: right;\n",
       "    }\n",
       "</style>\n",
       "<table border=\"1\" class=\"dataframe\">\n",
       "  <thead>\n",
       "    <tr style=\"text-align: right;\">\n",
       "      <th></th>\n",
       "      <th>Experiment</th>\n",
       "      <th>MSE</th>\n",
       "      <th>RMSE</th>\n",
       "    </tr>\n",
       "  </thead>\n",
       "  <tbody>\n",
       "    <tr>\n",
       "      <td>0</td>\n",
       "      <td>Baseline-Raw (50 epochs)</td>\n",
       "      <td>277.65</td>\n",
       "      <td>16.66</td>\n",
       "    </tr>\n",
       "    <tr>\n",
       "      <td>0</td>\n",
       "      <td>Normalized-1 Hidden Layers(50 epochs)</td>\n",
       "      <td>405.01</td>\n",
       "      <td>20.12</td>\n",
       "    </tr>\n",
       "    <tr>\n",
       "      <td>0</td>\n",
       "      <td>Normalized-1 Hidden Layers(100 epochs)</td>\n",
       "      <td>177.38</td>\n",
       "      <td>13.32</td>\n",
       "    </tr>\n",
       "    <tr>\n",
       "      <td>0</td>\n",
       "      <td>Normalized-3 Hidden Layers(50 epochs)</td>\n",
       "      <td>100.04</td>\n",
       "      <td>10.00</td>\n",
       "    </tr>\n",
       "  </tbody>\n",
       "</table>\n",
       "</div>"
      ],
      "text/plain": [
       "                               Experiment     MSE   RMSE\n",
       "0                Baseline-Raw (50 epochs)  277.65  16.66\n",
       "0   Normalized-1 Hidden Layers(50 epochs)  405.01  20.12\n",
       "0  Normalized-1 Hidden Layers(100 epochs)  177.38  13.32\n",
       "0   Normalized-3 Hidden Layers(50 epochs)  100.04  10.00"
      ]
     },
     "execution_count": 45,
     "metadata": {},
     "output_type": "execute_result"
    }
   ],
   "source": [
    "# Concat baseline dataframe into result\n",
    "df_mse_and_rmse = pd.concat([df_mse_and_rmse, df_result_baseline], axis=0)\n",
    "\n",
    "# Review the result dataframe\n",
    "df_mse_and_rmse"
   ]
  },
  {
   "cell_type": "markdown",
   "metadata": {},
   "source": [
    "# Discussion"
   ]
  },
  {
   "cell_type": "markdown",
   "metadata": {},
   "source": [
    "As you see, the mean squared error (MSE) tells us how close a regression line is to our testing set. \n",
    "\n",
    "Thus, according to the mean squared error, the smaller score, the closer we are finding the regression line of best fit.\n",
    "\n",
    "Indeed, the **model (D)**, which is trained with three hidden layers, each of 10 nodes and ReLU activation function, is the best one. Because its mean squared error is **336.66**. Moreover, its error is lower than about *305* and **77** when comparing with the trained model applying one hidden layer with *50* epochs and **100** epochs. \n",
    "\n",
    "Also, when comparing to the MSE of baseline model, the MSE of **model (D)** is lower, about **178**.\n",
    "\n",
    "However, it is interesting that the MSE of baseline model (A) is lower than the MSE of model (B) which is trained by the normalized data and the same configuration of model, about **127**.\n",
    "\n",
    "In conclusion, in order to get the better result, we could apply several techniques to tune the model such as normalizing the input data, improving the number of epochs or the number of hidden layers."
   ]
  }
 ],
 "metadata": {
  "kernelspec": {
   "display_name": "Python 3",
   "language": "python",
   "name": "python3"
  },
  "language_info": {
   "codemirror_mode": {
    "name": "ipython",
    "version": 3
   },
   "file_extension": ".py",
   "mimetype": "text/x-python",
   "name": "python",
   "nbconvert_exporter": "python",
   "pygments_lexer": "ipython3",
   "version": "3.6.9"
  },
  "toc": {
   "base_numbering": 1,
   "nav_menu": {},
   "number_sections": true,
   "sideBar": true,
   "skip_h1_title": false,
   "title_cell": "Table of Contents",
   "title_sidebar": "Contents",
   "toc_cell": false,
   "toc_position": {
    "height": "calc(100% - 180px)",
    "left": "10px",
    "top": "150px",
    "width": "265.5px"
   },
   "toc_section_display": true,
   "toc_window_display": true
  },
  "varInspector": {
   "cols": {
    "lenName": 16,
    "lenType": 16,
    "lenVar": 40
   },
   "kernels_config": {
    "python": {
     "delete_cmd_postfix": "",
     "delete_cmd_prefix": "del ",
     "library": "var_list.py",
     "varRefreshCmd": "print(var_dic_list())"
    },
    "r": {
     "delete_cmd_postfix": ") ",
     "delete_cmd_prefix": "rm(",
     "library": "var_list.r",
     "varRefreshCmd": "cat(var_dic_list()) "
    }
   },
   "types_to_exclude": [
    "module",
    "function",
    "builtin_function_or_method",
    "instance",
    "_Feature"
   ],
   "window_display": false
  }
 },
 "nbformat": 4,
 "nbformat_minor": 2
}
